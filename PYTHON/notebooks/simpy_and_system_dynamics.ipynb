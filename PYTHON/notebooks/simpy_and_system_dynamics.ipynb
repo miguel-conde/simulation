{
 "cells": [
  {
   "cell_type": "code",
   "execution_count": null,
   "metadata": {},
   "outputs": [],
   "source": [
    "%load_ext autoreload\n",
    "%autoreload 2"
   ]
  },
  {
   "cell_type": "markdown",
   "metadata": {},
   "source": [
    "# Mini-Course Outline: SimPy for System Dynamics\n",
    "\n",
    "1. Introduction to Discrete-Event Simulation (DES) and System Dynamics\n",
    "\n",
    "+ Overview of DES\n",
    "+ How system dynamics fits into DES\n",
    "+ Key concepts in system dynamics modeling\n",
    "\n",
    "2. Getting Started with SimPy\n",
    "\n",
    "+ Installation and setup\n",
    "+ Basic components of SimPy (Environment, Events, Processes, Resources)\n",
    "\n",
    "3. Building Your First SimPy Model\n",
    "\n",
    "+ Defining system entities\n",
    "+ Modeling time and processes\n",
    "+ Running the simulation\n",
    "\n",
    "4. Advanced Modeling Concepts\n",
    "\n",
    "+ Resources and queues\n",
    "+ Prioritizing events\n",
    "+ Incorporating randomness and variability\n",
    "\n",
    "5. Case Studies in System Dynamics with SimPy\n",
    "\n",
    "+ Healthcare system modeling\n",
    "+ Supply chain and logistics\n",
    "+ Manufacturing processes\n",
    "\n",
    "6. Analyzing Simulation Outputs\n",
    "\n",
    "+ Gathering and storing simulation data\n",
    "+ Visualization techniques\n",
    "+ Statistical analysis for decision-making\n",
    "\n",
    "7. Optimizing System Performance with SimPy\n",
    "\n",
    "+ Scenario analysis\n",
    "+ Sensitivity analysis\n",
    "+ Optimization techniques\n",
    "\n",
    "8. Integrating SimPy with Other Python Libraries\n",
    "\n",
    "+ Data analysis with pandas\n",
    "+ Visualization with matplotlib and seaborn\n",
    "+ Machine learning for predictive modeling"
   ]
  },
  {
   "cell_type": "markdown",
   "metadata": {},
   "source": [
    "## Chapter 1: Introduction to Discrete-Event Simulation (DES) and System Dynamics\n",
    "\n",
    "### Overview of DES\n",
    "Discrete-Event Simulation (DES) is a powerful modeling approach used to simulate the operation of a system as a discrete sequence of events in time. Each event occurs at a particular instant in time and marks a change of state in the system. Unlike continuous simulation, which simulates systems in which changes occur continuously over time, DES focuses on systems where changes happen at specific points in time. This makes DES particularly useful for complex systems where interactions are event-driven, such as in manufacturing processes, telecommunications networks, and service operations.\n",
    "\n",
    "###  How System Dynamics Fits into DES\n",
    "System dynamics is a methodology for understanding the behavior of complex systems over time. It deals with internal feedback loops and time delays that affect the behavior of the entire system. While DES is event-centric, focusing on discrete changes, system dynamics provides a higher-level view, focusing on the continuous flows and accumulations that drive system behavior. System dynamics models are often used for strategic decision-making and policy analysis, offering insights into how systems evolve and how they can be managed or improved.\n",
    "\n",
    "In the context of DES, system dynamics plays a complementary role. It helps in understanding the broader implications of the events being simulated, providing a framework to analyze how individual events affect the system's state over time. For instance, in a DES model of a manufacturing process, system dynamics can help analyze how changes in production rates, inventory levels, and demand forecasts affect the overall system stability and performance.\n",
    "\n",
    "### Key Concepts in System Dynamics Modeling\n",
    "\n",
    "1. **Stocks and Flows**: Stocks represent accumulations of resources or quantities within the system, such as inventory in a warehouse. Flows represent the rates at which these stocks change over time, like products being manufactured or sold.\n",
    "\n",
    "2. **Feedback Loops**: These are circular paths where a change in one part of the system eventually feeds back to affect itself, either amplifying (positive feedback) or dampening (negative feedback) the initial change. Feedback loops are crucial for understanding system behavior and resilience.\n",
    "\n",
    "3. **Time Delays**: Time delays occur between cause and effect in a system, which can lead to oscillations or instability. Recognizing and accurately modeling these delays is important for realistic simulation outcomes.\n",
    "\n",
    "4- **Modeling and Simulation Software**: While SimPy is a tool for DES, other software like Stella or Vensim is designed for system dynamics modeling. However, understanding the principles of system dynamics enhances the depth of analysis possible with DES by incorporating broader system behaviors into event-driven simulations.\n",
    "\n",
    "By integrating the insights gained from system dynamics into DES models, you can create more robust and comprehensive simulations. This synergy allows for not only simulating the detailed operation of a system but also understanding the long-term implications and dynamics of the system's behavior.\n",
    "\n",
    "As we progress, we'll delve deeper into SimPy and how it can be used to model both discrete events and, to some extent, capture the essence of system dynamics through its modeling capabilities."
   ]
  },
  {
   "cell_type": "markdown",
   "metadata": {},
   "source": [
    "## Chapter 2: Getting Started with SimPy\n",
    "\n",
    "### Installation and Setup\n",
    "Before we dive into the mechanics of SimPy, let's ensure you have SimPy installed in your Python environment. Given your proficiency in Python, I'll assume you're familiar with using pip for installing packages. If SimPy is not already installed, you can add it to your environment by running the following command in your terminal or command prompt:\n",
    "\n",
    "```\n",
    "pip install simpy\n",
    "```\n",
    "\n",
    "This command fetches the latest version of SimPy from the Python Package Index (PyPI) and installs it in your Python environment. Once the installation process is complete, you can verify that SimPy is installed correctly by trying to import it in a Python session:"
   ]
  },
  {
   "cell_type": "code",
   "execution_count": 1,
   "metadata": {},
   "outputs": [],
   "source": [
    "import simpy"
   ]
  },
  {
   "cell_type": "markdown",
   "metadata": {},
   "source": [
    "If this command runs without errors, you're all set to start using SimPy.\n",
    "\n",
    "### Basic Components of SimPy\n",
    "SimPy models the operation of a system using a few basic building blocks: Environment, Events, Processes, and Resources. Let's briefly go over each of these components:\n",
    "\n",
    "1. **Environment**: The environment is the core of any SimPy simulation. It represents the timeline of your simulation and manages the simulation time. All entities, events, and processes interact within this environment. You create an environment using simpy.Environment().\n",
    "\n",
    "2. **Events**: Events are occurrences that change the state of the system at a specific point in time. Events can be scheduled (e.g., an arrival of a new customer) or instantaneous (e.g., a machine breaking down). In SimPy, events are represented by the Event class, and they can be scheduled, processed, or triggered within the environment.\n",
    "\n",
    "3. **Processes**: Processes model the behavior of entities within the system. They are defined by Python generator functions that yield event objects. Processes can wait for events to happen, trigger other events, or even initiate other processes. These generator functions are what make SimPy simulations dynamic and allow modeling complex behaviors and interactions.\n",
    "\n",
    "4. **Resources**: Resources represent limited capacity facilities or entities that can be used by processes. Resources can be anything from a machine in a factory to a server in a computer network. SimPy offers various types of resources, such as Resource for basic shared resources, PriorityResource for resources with prioritized access, and Container and Store for modeling inventories and storage capabilities.\n",
    "\n",
    "Here’s a basic example that puts together these concepts to create a simple simulation of a car charging at an electric vehicle charging station:"
   ]
  },
  {
   "cell_type": "code",
   "execution_count": 2,
   "metadata": {},
   "outputs": [
    {
     "name": "stdout",
     "output_type": "stream",
     "text": [
      "Start parking and charging at 0\n",
      "Stop parking and charging at 5\n"
     ]
    }
   ],
   "source": [
    "import simpy\n",
    "\n",
    "def car(env):\n",
    "    print('Start parking and charging at', env.now)\n",
    "    yield env.timeout(5)  # Represents the charging process\n",
    "    print('Stop parking and charging at', env.now)\n",
    "\n",
    "env = simpy.Environment()  # Create the SimPy environment\n",
    "env.process(car(env))  # Add the car process to the environment\n",
    "env.run(until=15)  # Run the simulation\n"
   ]
  },
  {
   "cell_type": "markdown",
   "metadata": {},
   "source": [
    "This example demonstrates creating an environment, defining a process (the car function), and running the simulation. The env.timeout(5) call simulates the car charging for 5 units of time."
   ]
  },
  {
   "cell_type": "markdown",
   "metadata": {},
   "source": [
    "## Chapter 3: Building Your First SimPy Model\n",
    "In this chapter, we will develop a more comprehensive SimPy model step by step. We'll simulate a simple queueing system, such as a single cashier in a grocery store, to demonstrate defining system entities, modeling time and processes, and running the simulation.\n",
    "\n",
    "## Defining System Entities\n",
    "In our simulation, the primary entities will be customers and a cashier. The cashier will be modeled as a resource because it has a limited capacity (in this case, one), meaning it can only serve one customer at a time. Customers will be modeled as processes because they have behavior over time, specifically arriving and being served.\n",
    "\n",
    "## Modeling Time and Processes\n",
    "We'll define two processes:\n",
    "\n",
    "1. Customer arrivals\n",
    "2. Customer service\n",
    "\n",
    "Customers will arrive at random intervals, and each will require a random amount of service time. This randomness introduces variability into our simulation, making it more realistic.\n",
    "\n",
    "We'll use SimPy's Environment, Resource, and Process components, along with Python's random module to introduce variability.\n",
    "\n",
    "### Running the Simulation\n",
    "The goal of our simulation will be to observe how the system behaves over time, specifically looking at how long customers have to wait to be served.\n",
    "\n",
    "Here's the full code for our model:"
   ]
  },
  {
   "cell_type": "code",
   "execution_count": 3,
   "metadata": {},
   "outputs": [
    {
     "name": "stdout",
     "output_type": "stream",
     "text": [
      "Customer 1 arrives at the cashier at 2.04\n",
      "Customer 1 starts being served at 2.04\n",
      "Customer 2 arrives at the cashier at 2.09\n",
      "Customer 3 arrives at the cashier at 2.65\n",
      "Customer 4 arrives at the cashier at 2.95\n",
      "Customer 5 arrives at the cashier at 3.17\n",
      "Customer 1 leaves at 4.04\n",
      "Customer 2 starts being served at 4.04\n",
      "Customer 6 arrives at the cashier at 5.87\n",
      "Customer 7 arrives at the cashier at 6.05\n",
      "Customer 2 leaves at 7.04\n",
      "Customer 3 starts being served at 7.04\n",
      "Customer 8 arrives at the cashier at 7.15\n",
      "Customer 9 arrives at the cashier at 7.34\n",
      "Customer 10 arrives at the cashier at 7.87\n",
      "Customer 3 leaves at 8.04\n",
      "Customer 4 starts being served at 8.04\n",
      "Customer 11 arrives at the cashier at 9.72\n",
      "Customer 12 arrives at the cashier at 10.16\n",
      "Customer 4 leaves at 11.04\n",
      "Customer 5 starts being served at 11.04\n",
      "Customer 13 arrives at the cashier at 12.26\n",
      "Customer 14 arrives at the cashier at 13.35\n",
      "Customer 5 leaves at 14.04\n",
      "Customer 6 starts being served at 14.04\n",
      "Customer 15 arrives at the cashier at 14.54\n",
      "Customer 6 leaves at 16.04\n",
      "Customer 7 starts being served at 16.04\n",
      "Customer 7 leaves at 17.04\n",
      "Customer 8 starts being served at 17.04\n",
      "Customer 16 arrives at the cashier at 17.85\n",
      "Customer 8 leaves at 18.04\n",
      "Customer 9 starts being served at 18.04\n"
     ]
    }
   ],
   "source": [
    "import simpy\n",
    "import random\n",
    "\n",
    "def customer(env, name, cashier):\n",
    "    # Customer arrives and requests the cashier\n",
    "    print(f'{name} arrives at the cashier at {env.now:.2f}')\n",
    "    with cashier.request() as request:\n",
    "        yield request\n",
    "        # Customer starts being served\n",
    "        print(f'{name} starts being served at {env.now:.2f}')\n",
    "        yield env.timeout(random.randint(1, 3))  # Random service time between 1 and 3\n",
    "        # Customer leaves\n",
    "        print(f'{name} leaves at {env.now:.2f}')\n",
    "\n",
    "def setup(env, num_cashiers, interarrival_time):\n",
    "    # Create the cashier resource\n",
    "    cashier = simpy.Resource(env, num_cashiers)\n",
    "    \n",
    "    # Generate customers at random intervals\n",
    "    i = 0\n",
    "    while True:\n",
    "        yield env.timeout(random.expovariate(1.0 / interarrival_time))\n",
    "        i += 1\n",
    "        env.process(customer(env, f'Customer {i}', cashier))\n",
    "\n",
    "# Set up the environment\n",
    "random.seed(42)  # For reproducible results\n",
    "env = simpy.Environment()\n",
    "env.process(setup(env, num_cashiers=1, interarrival_time=2))\n",
    "\n",
    "# Run the simulation\n",
    "env.run(until=20)\n",
    "\n"
   ]
  },
  {
   "cell_type": "markdown",
   "metadata": {},
   "source": [
    "This code simulates a single cashier and customers arriving at an average interval of 2 time units. Each customer requires a random service time between 1 and 3 time units. We run the simulation for 20 time units.\n",
    "\n",
    "The setup function initializes the simulation environment, creating the cashier resource and generating customers at random intervals. The customer function models the customer's process of arriving, being served, and leaving.\n",
    "\n",
    "When you run this simulation, you'll see logs indicating when each customer arrives, starts being served, and leaves. This output helps us understand how the system operates over time and the dynamics of the queueing process.\n",
    "\n",
    "Try running the simulation with different parameters (e.g., longer simulation time, faster or slower customer arrival rate) to see how the system's behavior changes."
   ]
  },
  {
   "cell_type": "markdown",
   "metadata": {},
   "source": [
    "## Chapter 4: Advanced Modeling Concepts\n",
    "\n",
    "After establishing a basic understanding of building and running SimPy models, let's delve into more advanced modeling concepts that can add depth and realism to your simulations. These concepts include managing resources and queues more effectively, prioritizing events, and incorporating randomness and variability into your models.\n",
    "\n",
    "### Resources and Queues\n",
    "\n",
    "SimPy provides several types of resources to model shared facilities or services with limited capacity, such as `Resource`, `PriorityResource`, `PreemptiveResource`, and others. Each resource type can help simulate different scenarios:\n",
    "\n",
    "+ **Resource**: The basic resource type, useful for modeling resources that can be used by one or more entities at a time, like a set of identical servers in a data center.\n",
    "+ **PriorityResource**: Extends `Resource` by allowing processes to have priorities. This is useful in scenarios where certain actions or entities should be given precedence over others, such as emergency services in healthcare.\n",
    "+ **PreemptiveResource**: Further extends `PriorityResource` by allowing higher-priority processes to preempt (interrupt) lower-priority processes currently using the resource.\n",
    "\n",
    "The management of queues (waiting lines) for these resources is an integral part of simulation modeling. SimPy automatically manages queues for each resource, but you can customize this behavior. For instance, you might want to limit queue lengths or implement custom queue disciplines.\n",
    "\n",
    "### Prioritizing Events\n",
    "\n",
    "SimPy allows for the prioritization of events through the `PriorityResource` and `PreemptiveResource`. This enables more sophisticated modeling of real-world systems where priorities can influence the order in which tasks are performed or resources are allocated.\n",
    "\n",
    "To use prioritization, when creating a request for a resource, you can specify a priority level. Higher priority levels are served before lower ones. In the case of `PreemptiveResource`, you can also specify preemption parameters, allowing a higher-priority process to interrupt and displace a lower-priority process.\n",
    "\n",
    "### Incorporating Randomness and Variability\n",
    "\n",
    "Real-world systems are often subject to variability and randomness, making it important to include these elements in your simulations to achieve realistic and reliable results. You can introduce randomness in various ways:\n",
    "\n",
    "+ **Interarrival times and service times**: Use random number distributions (e.g., exponential, normal, uniform) to determine how frequently entities arrive in the system or how long they require to be served.\n",
    "+ **Resource availability and failures**: Model resources as having variable availability or being subject to random failures and repairs, affecting the flow and processing of entities.\n",
    "+ **Entity attributes**: Assign entities with attributes that influence their behavior or processing within the system, where these attributes can vary according to defined probability distributions.\n",
    "\n",
    "Python's `random` module or NumPy's random number generation capabilities are typically used to generate the necessary random values within SimPy models.\n",
    "\n",
    "### Example: Enhancing Our Grocery Store Model\n",
    "\n",
    "Let's incorporate some of these advanced concepts into our grocery store cashier model by adding a second cashier with priority for express checkout and introducing randomness in customer arrival and service times."
   ]
  },
  {
   "cell_type": "code",
   "execution_count": 2,
   "metadata": {},
   "outputs": [
    {
     "name": "stdout",
     "output_type": "stream",
     "text": [
      "Customer 1 arrives at 0.13\n",
      "Customer 1 starts checkout at 0.13 in express line\n",
      "Customer 2 arrives at 0.68\n",
      "Customer 2 starts checkout at 0.68 in regular line\n",
      "Customer 2 leaves at 2.68\n",
      "Customer 1 leaves at 3.13\n",
      "Customer 3 arrives at 4.06\n",
      "Customer 3 starts checkout at 4.06 in express line\n",
      "Customer 3 leaves at 5.06\n",
      "Customer 4 arrives at 6.75\n",
      "Customer 4 starts checkout at 6.75 in express line\n",
      "Customer 5 arrives at 8.21\n",
      "Customer 5 starts checkout at 8.21 in regular line\n",
      "Customer 4 leaves at 8.75\n",
      "Customer 6 arrives at 9.29\n",
      "Customer 6 starts checkout at 9.29 in regular line\n",
      "Customer 5 leaves at 10.21\n",
      "Customer 6 leaves at 11.29\n",
      "Customer 7 arrives at 14.08\n",
      "Customer 7 starts checkout at 14.08 in express line\n",
      "Customer 8 arrives at 14.24\n",
      "Customer 8 starts checkout at 14.24 in express line\n",
      "Customer 8 leaves at 15.24\n",
      "Customer 7 leaves at 17.08\n"
     ]
    }
   ],
   "source": [
    "import simpy\n",
    "import random\n",
    "\n",
    "def customer(env, name, cashiers, express):\n",
    "    print(f'{name} arrives at {env.now:.2f}')\n",
    "    with cashiers.request(priority=express) as req:\n",
    "        yield req\n",
    "        print(f'{name} starts checkout at {env.now:.2f} in {\"express\" if express else \"regular\"} line')\n",
    "        yield env.timeout(random.randint(1, 3))  # Random service time\n",
    "        print(f'{name} leaves at {env.now:.2f}')\n",
    "\n",
    "def setup(env):\n",
    "    cashiers = simpy.PriorityResource(env, capacity=2)\n",
    "    i = 0\n",
    "    while True:\n",
    "        yield env.timeout(random.expovariate(1/2))  # Random arrival time\n",
    "        i += 1\n",
    "        env.process(customer(env, f'Customer {i}', cashiers, express=random.choice([0, 1])))\n",
    "\n",
    "env = simpy.Environment()\n",
    "env.process(setup(env))\n",
    "env.run(until=20)\n"
   ]
  },
  {
   "cell_type": "markdown",
   "metadata": {},
   "source": [
    "In this enhanced model, we now have two cashiers, and customers are randomly assigned as express or not, affecting their priority in the queue. Service times and customer arrivals are randomized to add variability to the simulation.\n",
    "\n",
    "Incorporating these advanced concepts into your SimPy models will enable you to capture the complexities and uncertainties inherent in real-world systems more accurately."
   ]
  },
  {
   "cell_type": "markdown",
   "metadata": {},
   "source": [
    "## Chapter 5: Case Studies in System Dynamics with SimPy\n",
    "\n",
    "This chapter explores how SimPy can be applied to various domains through case studies in healthcare system modeling, supply chain and logistics, and manufacturing processes. These examples illustrate the flexibility of SimPy in representing complex system dynamics and the breadth of its applicability across different fields.\n",
    "\n",
    "### Healthcare System Modeling\n",
    "\n",
    "**Scenario**: Modeling a Hospital Emergency Department (ED)\n",
    "\n",
    "The goal is to understand how patient flow impacts wait times and overall capacity utilization of the ED. We can model patients arriving with different urgency levels, requiring different amounts of treatment time, and competing for limited resources such as doctors, nurses, and beds.\n",
    "\n",
    "**Key Elements**:\n",
    "\n",
    "+ Patients as entities with attributes for urgency and treatment time.\n",
    "+ Resources include medical staff and hospital beds.\n",
    "+ Process modeling for patient triage, treatment, and discharge.\n",
    "+ Analyzing outcomes like patient wait times, staff utilization, and throughput.\n",
    "\n",
    "This model can help hospital administrators understand the impact of changes in staffing, process improvements, or variations in patient arrivals on ED performance.\n",
    "\n",
    "### Supply Chain and Logistics\n",
    "\n",
    "**Scenario**: Modeling a Distribution Network\n",
    "\n",
    "In this case, we simulate a distribution network consisting of suppliers, warehouses, and retail outlets. The aim is to optimize inventory levels, minimize shipping costs, and ensure timely delivery to meet customer demand.\n",
    "\n",
    "**Key Elements**:\n",
    "\n",
    "+ Entities include inventory items, orders, and transportation vehicles.\n",
    "+ Processes for ordering, shipping, receiving, and restocking.\n",
    "+ Resources such as storage capacity at warehouses and fleet capacity.\n",
    "+ Metrics for evaluating performance include delivery times, inventory levels, and shipping costs.\n",
    "\n",
    "Such a simulation can inform decisions on where to locate new warehouses, how to route shipments, and optimal inventory levels to reduce costs and improve service.\n",
    "\n",
    "### Manufacturing Processes\n",
    "\n",
    "**Scenario**: Optimizing a Production Line\n",
    "\n",
    "This case study focuses on a production line manufacturing multiple products. The objective is to maximize throughput and efficiency while minimizing downtime and waste.\n",
    "\n",
    "**Key Elements**:\n",
    "\n",
    "+ Machines, workers, and materials as resources with varying availability and capabilities.\n",
    "+ Entities represent different products, each requiring specific processes and materials.\n",
    "+ Processes for assembly, quality control, and packaging.\n",
    "+ Analysis of system bottlenecks, machine utilization, and production lead times.\n",
    "\n",
    "Simulating the production line can reveal opportunities for process improvements, better resource allocation, and strategies for managing production variability.\n",
    "\n",
    "### Implementing Case Studies with SimPy\n",
    "\n",
    "Implementing these case studies in SimPy involves defining the entities, processes, and resources specific to each scenario and then simulating the interactions and dynamics of the system over time. The flexibility of SimPy allows for detailed modeling of complex behaviors and interactions, providing valuable insights into system performance under various conditions.\n",
    "\n",
    "These case studies demonstrate the power of simulation in understanding and optimizing complex systems. Whether you're managing a healthcare facility, a supply chain network, or a manufacturing operation, SimPy provides a robust platform for exploring system dynamics and identifying improvements."
   ]
  },
  {
   "cell_type": "markdown",
   "metadata": {},
   "source": [
    "### Simplified version of Case Study 1: Modeling a Hospital Emergency Department (ED)\n",
    "\n",
    "In this scenario, we'll focus on patients arriving at the ED, requiring different levels of care, and using various ED resources such as doctors and beds.\n",
    "\n",
    "#### Simplified Hospital ED Model Overview\n",
    "\n",
    "+ **Patients** arrive at the ED with varying conditions, requiring different amounts of treatment time.\n",
    "+ **Doctors** are limited resources that patients must wait for to receive treatment.\n",
    "+ **Beds** are another resource that patients may need during their stay in the ED.\n",
    "\n",
    "#### Key Elements to Model\n",
    "\n",
    "1. **Patient Arrivals**:\n",
    "    + Patients arrive randomly, simulating the unpredictable nature of emergency department visits.\n",
    "2. **Treatment Process**:\n",
    "    + Varying treatment times based on the severity of the condition.\n",
    "    + Some patients may require a bed for their treatment, while others can be treated in the waiting area.\n",
    "3. **Resources**:\n",
    "    + A limited number of doctors and beds available for treating patients.\n",
    "\n",
    "#### SimPy Implementation\n",
    "\n",
    "We'll set up the simulation environment, define our patient arrival process, and model the treatment process that utilizes the available doctors and beds."
   ]
  },
  {
   "cell_type": "code",
   "execution_count": 20,
   "metadata": {},
   "outputs": [
    {
     "name": "stdout",
     "output_type": "stream",
     "text": [
      "Patient 1 arrived at 6.898263949448198\n",
      "Patient 1 started treatment with doctor at 6.898263949448198\n",
      "Patient 2 arrived at 13.789579121985327\n",
      "Patient 2 started treatment with doctor at 13.789579121985327\n",
      "Patient 2 waiting for a bed at 13.789579121985327\n",
      "Patient 2 got a bed at 13.789579121985327\n",
      "Patient 3 arrived at 37.264334064751225\n",
      "Patient 3 started treatment with doctor at 37.264334064751225\n",
      "Patient 3 waiting for a bed at 37.264334064751225\n",
      "Patient 3 got a bed at 37.264334064751225\n",
      "Patient 1 finished treatment at 41.8982639494482\n",
      "Patient 4 arrived at 43.3240229601864\n",
      "Patient 4 started treatment with doctor at 43.3240229601864\n",
      "Patient 5 arrived at 49.75132976857259\n",
      "Patient 2 finished treatment at 64.78957912198533\n",
      "Patient 2 released the bed at 64.78957912198533\n",
      "Patient 5 started treatment with doctor at 64.78957912198533\n",
      "Patient 5 waiting for a bed at 64.78957912198533\n",
      "Patient 5 got a bed at 64.78957912198533\n",
      "Patient 6 arrived at 72.83162212233752\n",
      "Patient 7 arrived at 77.72225669957155\n",
      "Patient 4 finished treatment at 81.3240229601864\n",
      "Patient 6 started treatment with doctor at 81.3240229601864\n",
      "Patient 3 finished treatment at 82.26433406475122\n",
      "Patient 3 released the bed at 82.26433406475122\n",
      "Patient 7 started treatment with doctor at 82.26433406475122\n",
      "Patient 8 arrived at 86.67836321161876\n",
      "Patient 9 arrived at 87.95980855537466\n",
      "Patient 10 arrived at 99.73409227433424\n",
      "Patient 7 finished treatment at 106.26433406475122\n",
      "Patient 8 started treatment with doctor at 106.26433406475122\n",
      "Patient 8 waiting for a bed at 106.26433406475122\n",
      "Patient 8 got a bed at 106.26433406475122\n",
      "Patient 6 finished treatment at 110.3240229601864\n",
      "Patient 9 started treatment with doctor at 110.3240229601864\n",
      "Patient 5 finished treatment at 115.78957912198533\n",
      "Patient 5 released the bed at 115.78957912198533\n",
      "Patient 10 started treatment with doctor at 115.78957912198533\n",
      "Patient 11 arrived at 127.30465392680345\n",
      "Patient 9 finished treatment at 129.3240229601864\n",
      "Patient 11 started treatment with doctor at 129.3240229601864\n",
      "Patient 11 waiting for a bed at 129.3240229601864\n",
      "Patient 11 got a bed at 129.3240229601864\n",
      "Patient 10 finished treatment at 132.78957912198533\n",
      "Patient 8 finished treatment at 142.2643340647512\n",
      "Patient 8 released the bed at 142.2643340647512\n",
      "Patient 12 arrived at 163.46998961232347\n",
      "Patient 12 started treatment with doctor at 163.46998961232347\n",
      "Patient 12 waiting for a bed at 163.46998961232347\n",
      "Patient 12 got a bed at 163.46998961232347\n",
      "Patient 11 finished treatment at 169.3240229601864\n",
      "Patient 11 released the bed at 169.3240229601864\n",
      "Patient 13 arrived at 182.0016801049264\n",
      "Patient 13 started treatment with doctor at 182.0016801049264\n",
      "Patient 14 arrived at 191.76693788645994\n",
      "Patient 14 started treatment with doctor at 191.76693788645994\n",
      "Patient 15 arrived at 196.8762518180073\n",
      "Patient 12 finished treatment at 208.46998961232347\n",
      "Patient 12 released the bed at 208.46998961232347\n",
      "Patient 15 started treatment with doctor at 208.46998961232347\n",
      "Patient 15 waiting for a bed at 208.46998961232347\n",
      "Patient 15 got a bed at 208.46998961232347\n",
      "Patient 13 finished treatment at 230.0016801049264\n",
      "Patient 14 finished treatment at 236.76693788645994\n"
     ]
    }
   ],
   "source": [
    "import simpy\n",
    "import random\n",
    "\n",
    "# Parameters\n",
    "NUM_DOCTORS = 3\n",
    "NUM_BEDS = 5\n",
    "TREATMENT_TIME_RANGE = (15, 60)  # Treatment time range in minutes\n",
    "PATIENT_INTERARRIVAL_TIME = 10  # Average time between patient arrivals in minutes\n",
    "SIMULATION_TIME = 4 * 60  # Simulate for 4 hours, time in minutes\n",
    "BED_NEEDED_PROBABILITY = 0.5  # 50% chance a patient will need a bed\n",
    "\n",
    "class HospitalED:\n",
    "    def __init__(self, env):\n",
    "        self.env = env\n",
    "        self.doctor = simpy.Resource(env, NUM_DOCTORS)\n",
    "        self.bed = simpy.Resource(env, NUM_BEDS)\n",
    "\n",
    "    def treat_patient(self, patient):\n",
    "        arrival_time = self.env.now\n",
    "        print(f\"{patient} arrived at {arrival_time}\")\n",
    "        \n",
    "        with self.doctor.request() as doctor_req:\n",
    "            yield doctor_req  # Wait for a doctor to become available\n",
    "            print(f\"{patient} started treatment with doctor at {env.now}\")\n",
    "\n",
    "            # Determine if the patient needs a bed\n",
    "            needs_bed = random.random() < BED_NEEDED_PROBABILITY\n",
    "            if needs_bed:\n",
    "                with self.bed.request() as bed_req:\n",
    "                    print(f\"{patient} waiting for a bed at {env.now}\")\n",
    "                    yield bed_req  # Wait for a bed to become available\n",
    "                    print(f\"{patient} got a bed at {env.now}\")\n",
    "            \n",
    "            # Simulate treatment duration\n",
    "            treatment_duration = random.randint(*TREATMENT_TIME_RANGE)\n",
    "            yield self.env.timeout(treatment_duration)\n",
    "            \n",
    "            print(f\"{patient} finished treatment at {env.now}\")\n",
    "            if needs_bed:\n",
    "                print(f\"{patient} released the bed at {env.now}\")\n",
    "\n",
    "def patient_arrivals(env, hospital):\n",
    "    patient_id = 0\n",
    "    while True:\n",
    "        yield env.timeout(random.expovariate(1.0 / PATIENT_INTERARRIVAL_TIME))  # Next patient arrival\n",
    "        patient_id += 1\n",
    "        env.process(hospital.treat_patient(f\"Patient {patient_id}\"))\n",
    "\n",
    "# Set up and run the simulation\n",
    "env = simpy.Environment()\n",
    "hospital = HospitalED(env)\n",
    "env.process(patient_arrivals(env, hospital))\n",
    "env.run(until=SIMULATION_TIME)\n"
   ]
  },
  {
   "cell_type": "markdown",
   "metadata": {},
   "source": [
    "In this model:\n",
    "\n",
    "+ `HospitalED` represents our emergency department, equipped with doctors and beds as resources.\n",
    "+ `treat_patient` models the treatment process, where each patient requires a doctor and some amount of treatment time.\n",
    "+ `patient_arrivals` generates patients at random intervals, simulating the arrival of patients to the ED.\n",
    "\n",
    "This basic simulation framework can be expanded by incorporating more complex patient pathways, different treatment areas, or prioritization of patients based on the severity of their condition.\n",
    "\n",
    "This revised model introduces a decision point where, after being seen by a doctor, a patient may also need a bed for part of their treatment based on the `BED_NEEDED_PROBABILITY`. This addition creates a more nuanced simulation of resource utilization in the ED, including both doctors and beds.\n",
    "\n",
    "Through this simulation, you can observe how the availability of beds (or the lack thereof) impacts patient flow and treatment times. This could be further refined by incorporating more detailed patient conditions, varying treatment times based on those conditions, or different levels of staffing and resource availability."
   ]
  },
  {
   "cell_type": "markdown",
   "metadata": {},
   "source": [
    "### Simplified version of Case Study 2: Modeling a Distribution Network using SimPy\n",
    "\n",
    "This model will simulate a basic supply chain system comprising suppliers, a warehouse, and customers to understand inventory management and order fulfillment dynamics.\n",
    "\n",
    "#### Simplified Distribution Network Model Overview\n",
    "\n",
    "+ **Suppliers** generate products at a constant rate and send them to the warehouse.\n",
    "+ The **Warehouse** stores products and fulfills customer orders. If the warehouse runs out of stock, orders are backordered and fulfilled as soon as new stock arrives.\n",
    "+ **Customers** place orders at random intervals. The time to fulfill an order depends on the availability of products in the warehouse.\n",
    "\n",
    "Key Elements to Model\n",
    "1. **Suppliers**:\n",
    "    + Constant product supply rate.\n",
    "2. **Warehouse**:\n",
    "    + Limited storage capacity.\n",
    "    + Inventory management for receiving and shipping products.\n",
    "3. **Customers**:\n",
    "    + Random order placement.\n",
    "    + Order size variability.\n",
    "\n",
    "#### SimPy Implementation\n",
    "\n",
    "We'll use SimPy to model this system, focusing on the interaction between the warehouse and its suppliers and customers. For simplicity, we'll assume one type of product and fixed supply and demand rates."
   ]
  },
  {
   "cell_type": "code",
   "execution_count": 18,
   "metadata": {},
   "outputs": [
    {
     "name": "stdout",
     "output_type": "stream",
     "text": [
      "Supplied 100 products at time 1. Warehouse stock: 600\n",
      "Supplied 100 products at time 2. Warehouse stock: 700\n",
      "Fulfilled order of 150 at time 2.748281631642545. Warehouse stock: 550\n",
      "Supplied 100 products at time 3. Warehouse stock: 650\n",
      "Supplied 100 products at time 4. Warehouse stock: 750\n",
      "Supplied 100 products at time 5. Warehouse stock: 850\n",
      "Fulfilled order of 68 at time 5.4173559711261845. Warehouse stock: 782\n",
      "Supplied 100 products at time 6. Warehouse stock: 882\n",
      "Supplied 100 products at time 7. Warehouse stock: 982\n",
      "Overstock: Warehouse is full at time 8\n",
      "Overstock: Warehouse is full at time 10\n",
      "Overstock: Warehouse is full at time 12\n",
      "Fulfilled order of 94 at time 12.458269796981094. Warehouse stock: 888\n",
      "Supplied 100 products at time 14. Warehouse stock: 988\n",
      "Overstock: Warehouse is full at time 15\n",
      "Fulfilled order of 137 at time 16.83308624363607. Warehouse stock: 851\n",
      "Supplied 100 products at time 17. Warehouse stock: 951\n",
      "Overstock: Warehouse is full at time 18\n",
      "Overstock: Warehouse is full at time 20\n",
      "Fulfilled order of 66 at time 21.451275626751787. Warehouse stock: 885\n",
      "Fulfilled order of 82 at time 21.993764014287397. Warehouse stock: 803\n",
      "Supplied 100 products at time 22. Warehouse stock: 903\n",
      "Fulfilled order of 114 at time 22.687745559235243. Warehouse stock: 789\n",
      "Supplied 100 products at time 23. Warehouse stock: 889\n",
      "Fulfilled order of 70 at time 23.627257597125652. Warehouse stock: 819\n",
      "Fulfilled order of 123 at time 23.704987472906776. Warehouse stock: 696\n",
      "Supplied 100 products at time 24. Warehouse stock: 796\n",
      "Supplied 100 products at time 25. Warehouse stock: 896\n",
      "Supplied 100 products at time 26. Warehouse stock: 996\n",
      "Overstock: Warehouse is full at time 27\n",
      "Fulfilled order of 96 at time 28.017103323847625. Warehouse stock: 900\n",
      "Supplied 100 products at time 29. Warehouse stock: 1000\n",
      "Overstock: Warehouse is full at time 30\n",
      "Fulfilled order of 126 at time 31.022805569373602. Warehouse stock: 874\n",
      "Fulfilled order of 68 at time 31.780541204866847. Warehouse stock: 806\n",
      "Supplied 100 products at time 32. Warehouse stock: 906\n",
      "Overstock: Warehouse is full at time 33\n",
      "Fulfilled order of 86 at time 33.15828636812964. Warehouse stock: 820\n",
      "Supplied 100 products at time 35. Warehouse stock: 920\n",
      "Overstock: Warehouse is full at time 36\n",
      "Fulfilled order of 65 at time 36.478925329046895. Warehouse stock: 855\n",
      "Supplied 100 products at time 38. Warehouse stock: 955\n",
      "Overstock: Warehouse is full at time 39\n",
      "Overstock: Warehouse is full at time 41\n",
      "Fulfilled order of 75 at time 41.78972667855344. Warehouse stock: 880\n",
      "Fulfilled order of 92 at time 42.603085773144706. Warehouse stock: 788\n",
      "Supplied 100 products at time 43. Warehouse stock: 888\n",
      "Supplied 100 products at time 44. Warehouse stock: 988\n",
      "Overstock: Warehouse is full at time 45\n",
      "Fulfilled order of 111 at time 46.050891193192065. Warehouse stock: 877\n",
      "Supplied 100 products at time 47. Warehouse stock: 977\n",
      "Overstock: Warehouse is full at time 48\n",
      "Fulfilled order of 100 at time 48.756311596369656. Warehouse stock: 877\n",
      "Fulfilled order of 111 at time 49.44541871814398. Warehouse stock: 766\n",
      "Supplied 100 products at time 50. Warehouse stock: 866\n",
      "Fulfilled order of 125 at time 50.38480891588523. Warehouse stock: 741\n",
      "Supplied 100 products at time 51. Warehouse stock: 841\n",
      "Supplied 100 products at time 52. Warehouse stock: 941\n",
      "Overstock: Warehouse is full at time 53\n",
      "Fulfilled order of 75 at time 54.67351105379438. Warehouse stock: 866\n",
      "Supplied 100 products at time 55. Warehouse stock: 966\n",
      "Overstock: Warehouse is full at time 56\n",
      "Overstock: Warehouse is full at time 58\n",
      "Overstock: Warehouse is full at time 60\n",
      "Overstock: Warehouse is full at time 62\n",
      "Overstock: Warehouse is full at time 64\n",
      "Fulfilled order of 139 at time 64.72766929080183. Warehouse stock: 827\n",
      "Fulfilled order of 90 at time 65.46184953860094. Warehouse stock: 737\n",
      "Supplied 100 products at time 66. Warehouse stock: 837\n",
      "Supplied 100 products at time 67. Warehouse stock: 937\n",
      "Overstock: Warehouse is full at time 68\n",
      "Overstock: Warehouse is full at time 70\n",
      "Fulfilled order of 54 at time 70.4555431423549. Warehouse stock: 883\n",
      "Supplied 100 products at time 72. Warehouse stock: 983\n",
      "Overstock: Warehouse is full at time 73\n",
      "Overstock: Warehouse is full at time 75\n",
      "Overstock: Warehouse is full at time 77\n",
      "Overstock: Warehouse is full at time 79\n",
      "Overstock: Warehouse is full at time 81\n",
      "Overstock: Warehouse is full at time 83\n",
      "Overstock: Warehouse is full at time 85\n",
      "Overstock: Warehouse is full at time 87\n",
      "Overstock: Warehouse is full at time 89\n",
      "Overstock: Warehouse is full at time 91\n",
      "Overstock: Warehouse is full at time 93\n",
      "Overstock: Warehouse is full at time 95\n",
      "Overstock: Warehouse is full at time 97\n",
      "Fulfilled order of 71 at time 98.165629786958. Warehouse stock: 912\n",
      "Overstock: Warehouse is full at time 99\n"
     ]
    }
   ],
   "source": [
    "import simpy\n",
    "import random\n",
    "\n",
    "# Parameters\n",
    "SUPPLY_RATE = 100  # Products supplied per time unit\n",
    "ORDER_RATE = 5    # Average demand per time unit\n",
    "WAREHOUSE_CAPACITY = 1000\n",
    "SIMULATION_TIME = 100\n",
    "\n",
    "class DistributionNetwork:\n",
    "    def __init__(self, env):\n",
    "        self.env = env\n",
    "        self.warehouse = simpy.Container(env, WAREHOUSE_CAPACITY, init=500)\n",
    "        self.supplier = env.process(self.supply_products())\n",
    "        self.customer = env.process(self.customer_orders())\n",
    "\n",
    "    def supply_products(self):\n",
    "        while True:\n",
    "            yield self.env.timeout(1)  # Simulate time taken to supply products\n",
    "            supply_amount = SUPPLY_RATE\n",
    "            if self.warehouse.level + supply_amount > self.warehouse.capacity:\n",
    "                print(f\"Overstock: Warehouse is full at time {self.env.now}\")\n",
    "                yield self.env.timeout(1)\n",
    "            else:\n",
    "                yield self.warehouse.put(supply_amount)\n",
    "                print(f\"Supplied {supply_amount} products at time {self.env.now}. Warehouse stock: {self.warehouse.level}\")\n",
    "\n",
    "    def customer_orders(self):\n",
    "        while True:\n",
    "            yield self.env.timeout(random.expovariate(1/ORDER_RATE))\n",
    "            order_size = random.randint(50, 150)  # Order size variability\n",
    "            if self.warehouse.level < order_size:\n",
    "                print(f\"Backorder: Not enough stock to fulfill order of {order_size} at time {self.env.now}\")\n",
    "            else:\n",
    "                yield self.warehouse.get(order_size)\n",
    "                print(f\"Fulfilled order of {order_size} at time {self.env.now}. Warehouse stock: {self.warehouse.level}\")\n",
    "\n",
    "# Setup and run the simulation\n",
    "env = simpy.Environment()\n",
    "network = DistributionNetwork(env)\n",
    "env.run(until=SIMULATION_TIME)\n"
   ]
  },
  {
   "cell_type": "markdown",
   "metadata": {},
   "source": [
    "In this model:\n",
    "\n",
    "+ The `DistributionNetwork` class encapsulates our supply chain model.\n",
    "+ The `supply_products` process models the constant rate at which suppliers provide products to the warehouse.\n",
    "+ The `customer_orders` process models the random arrival of customer orders and the warehouse's attempt to fulfill these orders from its inventory. Orders are backordered if there isn't enough stock.\n",
    "\n",
    "This simplified simulation helps us understand how inventory levels at the warehouse fluctuate over time due to the dynamics of supply and demand. It can be extended by adding more detailed behaviors such as varying supply rates, different types of products, or multiple warehouses and suppliers."
   ]
  },
  {
   "cell_type": "markdown",
   "metadata": {},
   "source": [
    "### Simplified version of Case Study 3: Optimizing a Production Line using SimPy\n",
    "\n",
    "For Case Study 3, we'll simulate a production line to explore optimizing operations within a manufacturing process using SimPy. This model will help us understand the dynamics of a production line, including resource allocation, process efficiency, and identifying bottlenecks.\n",
    "\n",
    "#### Simplified Production Line Model Overview\n",
    "\n",
    "Our simplified model of a production line will include several key stages of manufacturing a product, such as assembly, quality control, and packaging. Each stage requires different amounts of time and resources (machines and workers), and products may queue at each stage depending on resource availability.\n",
    "\n",
    "#### Key Elements to Model\n",
    "\n",
    "1. **Stages of Production**:\n",
    "    + **Assembly**: Combining parts to create a product. Requires assembly workers.\n",
    "    + **Quality Control (QC)**: Inspecting products for defects. Requires QC workers.\n",
    "    + **Packaging**: Preparing products for shipment. Requires packaging workers.\n",
    "2. **Resources**:\n",
    "    + Workers at each stage, with limited numbers of workers available.\n",
    "3. **Process Flow**:\n",
    "    + Products move through each stage in sequence. Delays can occur if workers are not available.\n",
    "\n",
    "#### SimPy Implementation\n",
    "\n",
    "We'll define a simple production line with these elements, tracking the time taken for products to complete the production process."
   ]
  },
  {
   "cell_type": "code",
   "execution_count": 21,
   "metadata": {},
   "outputs": [
    {
     "name": "stdout",
     "output_type": "stream",
     "text": [
      "Product 1 entered production at 2\n",
      "Product 1 assembly started at 2\n",
      "Product 2 entered production at 4\n",
      "Product 2 assembly started at 4\n",
      "Product 3 entered production at 6\n",
      "Product 1 quality control started at 7\n",
      "Product 3 assembly started at 7\n",
      "Product 4 entered production at 8\n",
      "Product 4 assembly started at 9\n",
      "Product 5 entered production at 10\n",
      "Product 1 packaging started at 10\n",
      "Product 2 quality control started at 10\n",
      "Product 6 entered production at 12\n",
      "Product 1 completed at 12\n",
      "Product 5 assembly started at 12\n",
      "Product 2 packaging started at 13\n",
      "Product 3 quality control started at 13\n",
      "Product 7 entered production at 14\n",
      "Product 6 assembly started at 14\n",
      "Product 2 completed at 15\n",
      "Product 8 entered production at 16\n",
      "Product 3 packaging started at 16\n",
      "Product 4 quality control started at 16\n",
      "Product 7 assembly started at 17\n",
      "Product 9 entered production at 18\n",
      "Product 3 completed at 18\n",
      "Product 4 packaging started at 19\n",
      "Product 8 assembly started at 19\n",
      "Product 5 quality control started at 19\n",
      "Product 10 entered production at 20\n",
      "Product 4 completed at 21\n",
      "Product 11 entered production at 22\n",
      "Product 5 packaging started at 22\n",
      "Product 9 assembly started at 22\n",
      "Product 6 quality control started at 22\n",
      "Product 12 entered production at 24\n",
      "Product 5 completed at 24\n",
      "Product 10 assembly started at 24\n",
      "Product 6 packaging started at 25\n",
      "Product 7 quality control started at 25\n",
      "Product 13 entered production at 26\n",
      "Product 6 completed at 27\n",
      "Product 11 assembly started at 27\n",
      "Product 14 entered production at 28\n",
      "Product 7 packaging started at 28\n",
      "Product 8 quality control started at 28\n",
      "Product 12 assembly started at 29\n",
      "Product 15 entered production at 30\n",
      "Product 7 completed at 30\n",
      "Product 8 packaging started at 31\n",
      "Product 9 quality control started at 31\n",
      "Product 16 entered production at 32\n",
      "Product 13 assembly started at 32\n",
      "Product 8 completed at 33\n",
      "Product 17 entered production at 34\n",
      "Product 9 packaging started at 34\n",
      "Product 14 assembly started at 34\n",
      "Product 10 quality control started at 34\n",
      "Product 18 entered production at 36\n",
      "Product 9 completed at 36\n",
      "Product 10 packaging started at 37\n",
      "Product 15 assembly started at 37\n",
      "Product 11 quality control started at 37\n",
      "Product 19 entered production at 38\n",
      "Product 10 completed at 39\n",
      "Product 16 assembly started at 39\n",
      "Product 20 entered production at 40\n",
      "Product 11 packaging started at 40\n",
      "Product 12 quality control started at 40\n",
      "Product 21 entered production at 42\n",
      "Product 11 completed at 42\n",
      "Product 17 assembly started at 42\n",
      "Product 12 packaging started at 43\n",
      "Product 13 quality control started at 43\n",
      "Product 22 entered production at 44\n",
      "Product 18 assembly started at 44\n",
      "Product 12 completed at 45\n",
      "Product 23 entered production at 46\n",
      "Product 13 packaging started at 46\n",
      "Product 14 quality control started at 46\n",
      "Product 19 assembly started at 47\n",
      "Product 24 entered production at 48\n",
      "Product 13 completed at 48\n",
      "Product 14 packaging started at 49\n",
      "Product 20 assembly started at 49\n",
      "Product 15 quality control started at 49\n",
      "Product 25 entered production at 50\n",
      "Product 14 completed at 51\n",
      "Product 26 entered production at 52\n",
      "Product 15 packaging started at 52\n",
      "Product 21 assembly started at 52\n",
      "Product 16 quality control started at 52\n",
      "Product 27 entered production at 54\n",
      "Product 15 completed at 54\n",
      "Product 22 assembly started at 54\n",
      "Product 16 packaging started at 55\n",
      "Product 17 quality control started at 55\n",
      "Product 28 entered production at 56\n",
      "Product 16 completed at 57\n",
      "Product 23 assembly started at 57\n",
      "Product 29 entered production at 58\n",
      "Product 17 packaging started at 58\n",
      "Product 18 quality control started at 58\n",
      "Product 24 assembly started at 59\n"
     ]
    }
   ],
   "source": [
    "import simpy\n",
    "import random\n",
    "\n",
    "# Parameters\n",
    "NUM_ASSEMBLY_WORKERS = 2\n",
    "NUM_QC_WORKERS = 1\n",
    "NUM_PACKAGING_WORKERS = 2\n",
    "TIME_ASSEMBLY = 5  # Time it takes to assemble a product\n",
    "TIME_QC = 3  # Time for quality control check\n",
    "TIME_PACKAGING = 2  # Time to package a product\n",
    "PRODUCTION_RATE = 2  # Time between starting production of each product\n",
    "SIMULATION_TIME = 60  # Simulation time\n",
    "\n",
    "class ProductionLine:\n",
    "    def __init__(self, env):\n",
    "        self.env = env\n",
    "        self.assembly_workers = simpy.Resource(env, NUM_ASSEMBLY_WORKERS)\n",
    "        self.qc_workers = simpy.Resource(env, NUM_QC_WORKERS)\n",
    "        self.packaging_workers = simpy.Resource(env, NUM_PACKAGING_WORKERS)\n",
    "\n",
    "    def process_product(self, product_id):\n",
    "        print(f\"Product {product_id} entered production at {self.env.now}\")\n",
    "        with self.assembly_workers.request() as request:\n",
    "            yield request\n",
    "            print(f\"Product {product_id} assembly started at {self.env.now}\")\n",
    "            yield self.env.timeout(TIME_ASSEMBLY)\n",
    "        \n",
    "        with self.qc_workers.request() as request:\n",
    "            yield request\n",
    "            print(f\"Product {product_id} quality control started at {self.env.now}\")\n",
    "            yield self.env.timeout(TIME_QC)\n",
    "        \n",
    "        with self.packaging_workers.request() as request:\n",
    "            yield request\n",
    "            print(f\"Product {product_id} packaging started at {self.env.now}\")\n",
    "            yield self.env.timeout(TIME_PACKAGING)\n",
    "        \n",
    "        print(f\"Product {product_id} completed at {self.env.now}\")\n",
    "\n",
    "def production_sequence(env, production_line):\n",
    "    product_id = 1\n",
    "    while True:\n",
    "        yield env.timeout(PRODUCTION_RATE)\n",
    "        env.process(production_line.process_product(product_id))\n",
    "        product_id += 1\n",
    "\n",
    "# Setup and run the simulation\n",
    "env = simpy.Environment()\n",
    "production_line = ProductionLine(env)\n",
    "env.process(production_sequence(env, production_line))\n",
    "env.run(until=SIMULATION_TIME)\n"
   ]
  },
  {
   "cell_type": "markdown",
   "metadata": {},
   "source": [
    "In this model:\n",
    "\n",
    "+ The `ProductionLine` class represents our manufacturing process, with separate worker pools for assembly, quality control, and packaging.\n",
    "+ The `process_product` function simulates the production stages for each product sequentially.\n",
    "+ The `production_sequence` function continuously generates new products at a specified rate, simulating a steady flow of products into the production line.\n",
    "\n",
    "This basic simulation framework can be expanded in many ways, such as introducing variability in production times, simulating machine breakdowns and maintenance, or implementing strategies to optimize the flow of products through the production line."
   ]
  },
  {
   "cell_type": "markdown",
   "metadata": {},
   "source": [
    "## Chapter 6: Analyzing Simulation Outputs\n",
    "\n",
    "After running simulations, the next crucial step is analyzing the outputs to extract meaningful insights and make informed decisions. This chapter covers the essential aspects of analyzing simulation outputs, including gathering and storing simulation data, employing visualization techniques, and conducting statistical analysis.\n",
    "\n",
    "### Gathering and Storing Simulation Data\n",
    "\n",
    "To analyze simulation outputs effectively, you first need to collect and organize the data generated during the simulation. Here are key points to consider:\n",
    "\n",
    "+ **Define Metrics of Interest**: Before running the simulation, identify the key performance indicators (KPIs) that are most relevant to your objectives. These might include throughput rates, wait times, resource utilization levels, or any custom metrics specific to your simulation.\n",
    "+ **Data Collection Mechanisms**: Implement logging or data collection mechanisms within your simulation model to record the metrics of interest. This can be done by modifying your SimPy processes to store data in lists, dictionaries, or directly writing to external files or databases.\n",
    "+ **Structured Data Storage**: Store your collected data in a structured format that facilitates easy analysis. Common formats include CSV files, SQL databases, or Python data structures like pandas DataFrames.\n",
    "\n",
    "### Visualization Techniques\n",
    "\n",
    "Visualization is a powerful tool for understanding complex data and communicating your findings. Consider the following techniques:\n",
    "\n",
    "+ **Time Series Analysis**: Plot metrics that change over time, such as inventory levels or queue lengths, to identify patterns, trends, or irregularities.\n",
    "+ **Histograms and Distributions**: Use histograms to visualize the distribution of a particular metric, such as the frequency distribution of wait times or service times.\n",
    "+ **Resource Utilization**: Bar charts or heatmaps can illustrate how effectively resources are utilized throughout the simulation.\n",
    "+ **Process Flow Diagrams**: Visual representations of the process flow can help identify bottlenecks or inefficiencies.\n",
    "\n",
    "Tools like matplotlib, seaborn, or Plotly in Python can create these visualizations.\n",
    "\n",
    "### Statistical Analysis for Decision-Making\n",
    "\n",
    "Statistical analysis enables you to draw meaningful conclusions from your data, assess the reliability of your findings, and make evidence-based decisions.\n",
    "\n",
    "+ **Descriptive Statistics**: Calculate mean, median, mode, variance, and standard deviation for your metrics to understand their central tendency and dispersion.\n",
    "+ **Confidence Intervals**: For key metrics, compute confidence intervals to understand the range within which the true metric value lies, with a certain level of confidence.\n",
    "+ **Hypothesis Testing**: If comparing different scenarios or configurations, use hypothesis testing to determine if observed differences are statistically significant.\n",
    "+ **Regression Analysis**: To understand relationships between variables, consider using regression analysis. This can help in identifying factors that significantly impact key outcomes of your simulation.\n",
    "\n",
    "### Implementing Analysis in Python\n",
    "\n",
    "For a practical example, let's say we've simulated a queueing system and collected data on wait times and service times for each customer. Here's how we might analyze this data using Python:"
   ]
  },
  {
   "cell_type": "code",
   "execution_count": 23,
   "metadata": {},
   "outputs": [
    {
     "name": "stdout",
     "output_type": "stream",
     "text": [
      "         wait_time  service_time\n",
      "count  1000.000000   1000.000000\n",
      "mean     10.633951     15.001241\n",
      "std      10.514953      4.976145\n",
      "min       0.019494     -4.296024\n",
      "25%       3.072455     11.650789\n",
      "50%       7.633791     15.114011\n",
      "75%      14.332304     18.265060\n",
      "max      63.396206     29.577634\n"
     ]
    },
    {
     "data": {
      "image/png": "[encoded data removed]",
      "text/plain": [
       "<Figure size 1000x500 with 2 Axes>"
      ]
     },
     "metadata": {},
     "output_type": "display_data"
    }
   ],
   "source": [
    "import pandas as pd\n",
    "import numpy as np\n",
    "import matplotlib.pyplot as plt\n",
    "import seaborn as sns\n",
    "\n",
    "# Assume df is a pandas DataFrame containing our simulation data\n",
    "df = pd.DataFrame({\n",
    "    'wait_time': np.random.exponential(scale=10, size=1000),\n",
    "    'service_time': np.random.normal(loc=15, scale=5, size=1000)\n",
    "})\n",
    "\n",
    "# Descriptive Statistics\n",
    "print(df.describe())\n",
    "\n",
    "# Visualization\n",
    "plt.figure(figsize=(10, 5))\n",
    "plt.subplot(1, 2, 1)\n",
    "sns.histplot(df['wait_time'], kde=True, color='blue', binwidth=1)\n",
    "plt.title('Wait Time Distribution')\n",
    "\n",
    "plt.subplot(1, 2, 2)\n",
    "sns.histplot(df['service_time'], kde=True, color='green', binwidth=1)\n",
    "plt.title('Service Time Distribution')\n",
    "\n",
    "plt.tight_layout()\n",
    "plt.show()\n"
   ]
  },
  {
   "cell_type": "markdown",
   "metadata": {},
   "source": [
    "### Example - Analysis of Case Study 1: Hospital Emergency Department (ED)\n",
    "\n",
    "Analyzing simulation outputs is crucial for understanding the performance of the modeled system and making informed decisions. For our Hospital Emergency Department (ED) case study, let's implement a framework to gather simulation data, visualize key metrics, and perform basic statistical analysis. This will help us evaluate the efficiency of the ED and identify areas for improvement.\n",
    "\n",
    "#### Step 1: Gathering and Storing Simulation Data\n",
    "\n",
    "To analyze the ED's performance, we need to collect data on patient wait times, treatment times, and resource utilization. We'll modify our SimPy model to store this information.\n",
    "\n",
    "First, let's add data collection to our Hospital ED model:"
   ]
  },
  {
   "cell_type": "code",
   "execution_count": 27,
   "metadata": {},
   "outputs": [],
   "source": [
    "import simpy\n",
    "import random\n",
    "\n",
    "# Parameters\n",
    "NUM_DOCTORS = 3\n",
    "NUM_BEDS = 5\n",
    "TREATMENT_TIME_RANGE = (15, 60)  # Treatment time range in minutes\n",
    "PATIENT_INTERARRIVAL_TIME = 10  # Average time between patient arrivals in minutes\n",
    "SIMULATION_TIME = 24 * 60  # Simulate for 24 hours, time in minutes\n",
    "BED_NEEDED_PROBABILITY = 0.5  # 50% chance a patient will need a bed\n",
    "\n",
    "class HospitalED:\n",
    "    def __init__(self, env):\n",
    "        self.env = env\n",
    "        self.doctor = simpy.Resource(env, NUM_DOCTORS)\n",
    "        self.bed = simpy.Resource(env, NUM_BEDS)\n",
    "        self.data = {\"wait_times\": [], \"treatment_times\": [], \"bed_times\": []}\n",
    "\n",
    "    def treat_patient(self, patient):\n",
    "        arrival_time = self.env.now\n",
    "        needs_bed = random.random() < BED_NEEDED_PROBABILITY\n",
    "        with self.doctor.request() as doctor_req:\n",
    "            request_time = self.env.now\n",
    "            yield doctor_req\n",
    "            wait_time = self.env.now - request_time\n",
    "            self.data[\"wait_times\"].append(wait_time)\n",
    "            \n",
    "            # Treatment begins\n",
    "            treatment_start_time = self.env.now\n",
    "            treatment_duration = random.randint(*TREATMENT_TIME_RANGE)\n",
    "            yield self.env.timeout(treatment_duration)\n",
    "            self.data[\"treatment_times\"].append(treatment_duration)\n",
    "            \n",
    "            if needs_bed:\n",
    "                with self.bed.request() as bed_req:\n",
    "                    bed_request_time = self.env.now\n",
    "                    yield bed_req\n",
    "                    bed_wait_time = self.env.now - bed_request_time\n",
    "                    self.data[\"bed_times\"].append(bed_wait_time)\n"
   ]
  },
  {
   "cell_type": "code",
   "execution_count": 28,
   "metadata": {},
   "outputs": [],
   "source": [
    "def patient_arrivals(env, hospital):\n",
    "    patient_id = 0\n",
    "    while True:\n",
    "        yield env.timeout(random.expovariate(1.0 / PATIENT_INTERARRIVAL_TIME))  # Next patient arrival\n",
    "        patient_id += 1\n",
    "        env.process(hospital.treat_patient(f\"Patient {patient_id}\"))\n",
    "\n",
    "# Set up and run the simulation\n",
    "env = simpy.Environment()\n",
    "hospital = HospitalED(env)\n",
    "env.process(patient_arrivals(env, hospital))\n",
    "env.run(until=SIMULATION_TIME)"
   ]
  },
  {
   "cell_type": "markdown",
   "metadata": {},
   "source": [
    "#### Step 2: Visualization Techniques\n",
    "After running the simulation, we can visualize the collected data using Python's matplotlib library to understand patterns such as peak wait times or treatment delays.\n",
    "\n",
    "Example visualization of wait times:"
   ]
  },
  {
   "cell_type": "code",
   "execution_count": 29,
   "metadata": {},
   "outputs": [
    {
     "data": {
      "image/png": "[encoded data removed]",
      "text/plain": [
       "<Figure size 1000x600 with 1 Axes>"
      ]
     },
     "metadata": {},
     "output_type": "display_data"
    }
   ],
   "source": [
    "import matplotlib.pyplot as plt\n",
    "\n",
    "def plot_wait_times(wait_times):\n",
    "    plt.figure(figsize=(10, 6))\n",
    "    plt.hist(wait_times, bins=20, alpha=0.7, color='blue', edgecolor='black')\n",
    "    plt.title('Distribution of Patient Wait Times')\n",
    "    plt.xlabel('Wait Time (minutes)')\n",
    "    plt.ylabel('Number of Patients')\n",
    "    plt.show()\n",
    "\n",
    "# Assuming the simulation has been run and data collected\n",
    "plot_wait_times(hospital.data[\"wait_times\"])\n"
   ]
  },
  {
   "cell_type": "markdown",
   "metadata": {},
   "source": [
    "#### Step 3: Statistical Analysis for Decision-Making\n",
    "Using the collected data, we can calculate key statistics such as average wait time, treatment time, and bed wait time. These metrics can inform decisions on resource allocation or process improvements.\n",
    "\n",
    "Example calculation of average wait time:"
   ]
  },
  {
   "cell_type": "code",
   "execution_count": 30,
   "metadata": {},
   "outputs": [
    {
     "name": "stdout",
     "output_type": "stream",
     "text": [
      "Average Patient Wait Time: 181.36 minutes\n"
     ]
    }
   ],
   "source": [
    "def calculate_average_wait_time(wait_times):\n",
    "    average_wait = sum(wait_times) / len(wait_times)\n",
    "    return average_wait\n",
    "\n",
    "average_wait_time = calculate_average_wait_time(hospital.data[\"wait_times\"])\n",
    "print(f\"Average Patient Wait Time: {average_wait_time:.2f} minutes\")\n"
   ]
  },
  {
   "cell_type": "markdown",
   "metadata": {},
   "source": [
    "These steps form a basic framework for analyzing the performance of the Hospital ED simulation. By extending this framework, you can explore more complex questions, such as the impact of increasing the number of doctors or beds on patient wait times and overall ED throughput."
   ]
  },
  {
   "cell_type": "markdown",
   "metadata": {},
   "source": [
    "### Example - Analysis of Case Study 2: Distribution Network\n",
    "\n",
    "For Case Study 2, the Distribution Network, let's implement an analysis to understand the dynamics of inventory levels, order fulfillment times, and the efficiency of the supply chain. We'll gather simulation data on these aspects, visualize them, and perform some basic statistical analysis to inform potential optimizations.\n",
    "\n",
    "#### Step 1: Gathering and Storing Simulation Data\n",
    "\n",
    "We need to extend our Distribution Network model to collect relevant data, such as inventory levels over time, order sizes, fulfillment times, and instances of backordering.\n",
    "\n",
    "Here's an adjusted version of the Distribution Network class with data collection:"
   ]
  },
  {
   "cell_type": "code",
   "execution_count": 31,
   "metadata": {},
   "outputs": [],
   "source": [
    "import simpy\n",
    "import random\n",
    "\n",
    "# Parameters\n",
    "SUPPLY_RATE = 100  # Products supplied per time unit\n",
    "ORDER_RATE = 5    # Average demand per time unit\n",
    "WAREHOUSE_CAPACITY = 1000\n",
    "SIMULATION_TIME = 100\n",
    "\n",
    "class DistributionNetwork:\n",
    "    def __init__(self, env):\n",
    "        self.env = env\n",
    "        self.warehouse = simpy.Container(env, WAREHOUSE_CAPACITY, init=500)\n",
    "        self.supplier = env.process(self.supply_products())\n",
    "        self.customer = env.process(self.customer_orders())\n",
    "        self.data = {\"inventory_levels\": [], \"fulfillment_times\": [], \"order_sizes\": [], \"backorders\": []}\n",
    "\n",
    "    def supply_products(self):\n",
    "        while True:\n",
    "            yield self.env.timeout(1)  # Simulate time taken to supply products\n",
    "            supply_amount = SUPPLY_RATE\n",
    "            yield self.warehouse.put(supply_amount)\n",
    "            self.data[\"inventory_levels\"].append((self.env.now, self.warehouse.level))\n",
    "\n",
    "    def customer_orders(self):\n",
    "        while True:\n",
    "            yield self.env.timeout(random.expovariate(1/ORDER_RATE))\n",
    "            order_size = random.randint(50, 150)  # Order size variability\n",
    "            self.data[\"order_sizes\"].append(order_size)\n",
    "            order_time = self.env.now\n",
    "            if self.warehouse.level < order_size:\n",
    "                self.data[\"backorders\"].append((order_time, order_size))\n",
    "            yield self.warehouse.get(min(order_size, self.warehouse.level))\n",
    "            fulfillment_time = self.env.now - order_time\n",
    "            self.data[\"fulfillment_times\"].append(fulfillment_time)\n",
    "            self.data[\"inventory_levels\"].append((self.env.now, self.warehouse.level))\n"
   ]
  },
  {
   "cell_type": "code",
   "execution_count": 34,
   "metadata": {},
   "outputs": [],
   "source": [
    "# Setup and run the simulation\n",
    "env = simpy.Environment()\n",
    "distribution_network = DistributionNetwork(env)\n",
    "env.run(until=SIMULATION_TIME)"
   ]
  },
  {
   "cell_type": "markdown",
   "metadata": {},
   "source": [
    "#### Step 2: Visualization Techniques\n",
    "\n",
    "Visualizing inventory levels and fulfillment times can help identify patterns, such as periods of stockout or inefficiencies in order processing.\n",
    "\n",
    "Inventory Levels Over Time:"
   ]
  },
  {
   "cell_type": "code",
   "execution_count": 35,
   "metadata": {},
   "outputs": [
    {
     "data": {
      "image/png": "[encoded data removed]",
      "text/plain": [
       "<Figure size 1000x600 with 1 Axes>"
      ]
     },
     "metadata": {},
     "output_type": "display_data"
    }
   ],
   "source": [
    "def plot_inventory_levels(inventory_levels):\n",
    "    times, levels = zip(*inventory_levels)\n",
    "    plt.figure(figsize=(10, 6))\n",
    "    plt.step(times, levels, where='post')\n",
    "    plt.title('Inventory Levels Over Time')\n",
    "    plt.xlabel('Time')\n",
    "    plt.ylabel('Inventory Level')\n",
    "    plt.show()\n",
    "\n",
    "plot_inventory_levels(distribution_network.data[\"inventory_levels\"])\n"
   ]
  },
  {
   "cell_type": "markdown",
   "metadata": {},
   "source": [
    "Order Fulfillment Times:"
   ]
  },
  {
   "cell_type": "code",
   "execution_count": 36,
   "metadata": {},
   "outputs": [
    {
     "data": {
      "image/png": "[encoded data removed]",
      "text/plain": [
       "<Figure size 1000x600 with 1 Axes>"
      ]
     },
     "metadata": {},
     "output_type": "display_data"
    }
   ],
   "source": [
    "def plot_fulfillment_times(fulfillment_times):\n",
    "    plt.figure(figsize=(10, 6))\n",
    "    plt.hist(fulfillment_times, bins=30, alpha=0.7, color='green', edgecolor='black')\n",
    "    plt.title('Distribution of Order Fulfillment Times')\n",
    "    plt.xlabel('Fulfillment Time')\n",
    "    plt.ylabel('Number of Orders')\n",
    "    plt.show()\n",
    "\n",
    "plot_fulfillment_times(distribution_network.data[\"fulfillment_times\"])\n"
   ]
  },
  {
   "cell_type": "markdown",
   "metadata": {},
   "source": [
    "#### Step 3: Statistical Analysis for Decision-Making\n",
    "Calculating the average fulfillment time, frequency of backorders, and analyzing inventory level fluctuations can provide insights into the efficiency of the distribution network.\n"
   ]
  },
  {
   "cell_type": "code",
   "execution_count": 37,
   "metadata": {},
   "outputs": [
    {
     "name": "stdout",
     "output_type": "stream",
     "text": [
      "Average Order Fulfillment Time: 0.00 units\n",
      "Backorder Rate: 0.00%\n"
     ]
    }
   ],
   "source": [
    "def calculate_average_fulfillment_time(fulfillment_times):\n",
    "    average_time = sum(fulfillment_times) / len(fulfillment_times)\n",
    "    return average_time\n",
    "\n",
    "average_fulfillment_time = calculate_average_fulfillment_time(distribution_network.data[\"fulfillment_times\"])\n",
    "print(f\"Average Order Fulfillment Time: {average_fulfillment_time:.2f} units\")\n",
    "\n",
    "def calculate_backorder_rate(backorders, order_sizes):\n",
    "    total_orders = len(order_sizes)\n",
    "    backorder_events = len(backorders)\n",
    "    backorder_rate = (backorder_events / total_orders) * 100\n",
    "    return backorder_rate\n",
    "\n",
    "backorder_rate = calculate_backorder_rate(distribution_network.data[\"backorders\"], distribution_network.data[\"order_sizes\"])\n",
    "print(f\"Backorder Rate: {backorder_rate:.2f}%\")\n"
   ]
  },
  {
   "cell_type": "markdown",
   "metadata": {},
   "source": [
    "These analyses can help in understanding the critical points in the distribution network and guide decisions on inventory management, supply chain optimization, and customer satisfaction strategies."
   ]
  },
  {
   "cell_type": "markdown",
   "metadata": {},
   "source": [
    "### Example - Analysis of Case Study 3: Production Line\n",
    "\n",
    "To analyze the outputs from our Case Study 3: Production Line simulation, we'll focus on key performance indicators (KPIs) such as throughput, production time, and resource utilization. These metrics will help us assess the efficiency of the production line and identify potential bottlenecks.\n",
    "\n",
    "#### Gathering and Storing Simulation Data\n",
    "\n",
    "We'll modify the ProductionLine class to record the start and completion times for each product. This data will allow us to calculate production times and throughput."
   ]
  },
  {
   "cell_type": "code",
   "execution_count": 38,
   "metadata": {},
   "outputs": [],
   "source": [
    "import simpy\n",
    "import random\n",
    "\n",
    "# Parameters\n",
    "NUM_ASSEMBLY_WORKERS = 2\n",
    "NUM_QC_WORKERS = 1\n",
    "NUM_PACKAGING_WORKERS = 2\n",
    "TIME_ASSEMBLY = 5  # Time it takes to assemble a product\n",
    "TIME_QC = 3  # Time for quality control check\n",
    "TIME_PACKAGING = 2  # Time to package a product\n",
    "PRODUCTION_RATE = 2  # Time between starting production of each product\n",
    "SIMULATION_TIME = 60  # Simulation time\n",
    "\n",
    "class ProductionLine:\n",
    "    def __init__(self, env):\n",
    "        self.env = env\n",
    "        self.assembly_workers = simpy.Resource(env, NUM_ASSEMBLY_WORKERS)\n",
    "        self.qc_workers = simpy.Resource(env, NUM_QC_WORKERS)\n",
    "        self.packaging_workers = simpy.Resource(env, NUM_PACKAGING_WORKERS)\n",
    "        self.production_times = []  # Store production times for each product\n",
    "\n",
    "    def process_product(self, product_id):\n",
    "        start_time = self.env.now\n",
    "        # Assembly\n",
    "        with self.assembly_workers.request() as req:\n",
    "            yield req\n",
    "            yield self.env.timeout(TIME_ASSEMBLY)\n",
    "        # Quality Control\n",
    "        with self.qc_workers.request() as req:\n",
    "            yield req\n",
    "            yield self.env.timeout(TIME_QC)\n",
    "        # Packaging\n",
    "        with self.packaging_workers.request() as req:\n",
    "            yield req\n",
    "            yield self.env.timeout(TIME_PACKAGING)\n",
    "        end_time = self.env.now\n",
    "        self.production_times.append(end_time - start_time)  # Calculate total production time for this product\n",
    "\n",
    "def production_sequence(env, production_line):\n",
    "    product_id = 1\n",
    "    while True:\n",
    "        yield env.timeout(PRODUCTION_RATE)\n",
    "        env.process(production_line.process_product(product_id))\n",
    "        product_id += 1\n",
    "\n",
    "# Setup and run the simulation\n",
    "env = simpy.Environment()\n",
    "production_line = ProductionLine(env)\n",
    "env.process(production_sequence(env, production_line))\n",
    "env.run(until=SIMULATION_TIME)\n"
   ]
  },
  {
   "cell_type": "markdown",
   "metadata": {},
   "source": [
    "#### Analyzing Simulation Outputs\n",
    "\n",
    "1. Calculate Key Performance Indicators\n",
    "Let's calculate some KPIs such as average production time and throughput."
   ]
  },
  {
   "cell_type": "code",
   "execution_count": 39,
   "metadata": {},
   "outputs": [
    {
     "name": "stdout",
     "output_type": "stream",
     "text": [
      "Average Production Time: 17.50 minutes\n",
      "Throughput: 16.00 products per hour\n"
     ]
    }
   ],
   "source": [
    "def calculate_kpis(production_times):\n",
    "    average_production_time = sum(production_times) / len(production_times)\n",
    "    throughput = len(production_times) / SIMULATION_TIME * 60  # Products per hour\n",
    "    return average_production_time, throughput\n",
    "\n",
    "average_production_time, throughput = calculate_kpis(production_line.production_times)\n",
    "print(f\"Average Production Time: {average_production_time:.2f} minutes\")\n",
    "print(f\"Throughput: {throughput:.2f} products per hour\")\n"
   ]
  },
  {
   "cell_type": "markdown",
   "metadata": {},
   "source": [
    "2. Visualization Techniques\n",
    "\n",
    "Visualizing the distribution of production times can help identify variability and potential delays in the production process."
   ]
  },
  {
   "cell_type": "code",
   "execution_count": 40,
   "metadata": {},
   "outputs": [
    {
     "data": {
      "image/png": "[encoded data removed]",
      "text/plain": [
       "<Figure size 1000x600 with 1 Axes>"
      ]
     },
     "metadata": {},
     "output_type": "display_data"
    }
   ],
   "source": [
    "import matplotlib.pyplot as plt\n",
    "\n",
    "def plot_production_times(production_times):\n",
    "    plt.figure(figsize=(10, 6))\n",
    "    plt.hist(production_times, bins=30, alpha=0.7, color='green', edgecolor='black')\n",
    "    plt.title('Distribution of Production Times')\n",
    "    plt.xlabel('Production Time (minutes)')\n",
    "    plt.ylabel('Frequency')\n",
    "    plt.show()\n",
    "\n",
    "plot_production_times(production_line.production_times)\n"
   ]
  },
  {
   "cell_type": "markdown",
   "metadata": {},
   "source": [
    "3. Statistical Analysis for Decision-Making\n",
    "\n",
    "By analyzing the variability in production times, we can identify stages that might be causing delays. For example, if the production times are significantly longer than the sum of the time allocations for assembly, QC, and packaging, this could indicate excessive waiting due to resource constraints."
   ]
  },
  {
   "cell_type": "markdown",
   "metadata": {},
   "source": [
    "#### Next Steps\n",
    "\n",
    "+ **Bottleneck Analysis**: Identify which stage (assembly, QC, or packaging) has the highest utilization and might be acting as a bottleneck.\n",
    "+ **Resource Adjustment**: Simulate the impact of adding more workers to the bottlenecked stage to see if it improves throughput or reduces average production time.\n",
    "+ **Process Improvement**: Explore changes to the production process, such as parallel processing where possible, to optimize the flow."
   ]
  },
  {
   "cell_type": "markdown",
   "metadata": {},
   "source": [
    "## Chapter 7: Optimizing System Performance with SimPy\n",
    "\n",
    "Optimization in the context of system simulations involves finding the best configuration or parameters for a system to meet specified objectives, such as minimizing wait times, maximizing throughput, or balancing resource utilization. SimPy, being a versatile simulation framework, can be a powerful tool in conducting scenario analysis, sensitivity analysis, and applying optimization techniques to improve system performance. Here, we'll explore how these approaches can be applied using SimPy.\n",
    "\n",
    "### Scenario Analysis\n",
    "\n",
    "Scenario analysis involves simulating different configurations or operational strategies to understand their impact on system performance. It helps in evaluating \"what-if\" questions and comparing the outcomes of various scenarios.\n",
    "\n",
    "**Example**: For the production line case study, scenarios might include changes in the number of workers at each stage, implementing shift patterns, or introducing automation. By simulating these scenarios, you can assess their impact on key performance indicators like production time and throughput.\n",
    "\n",
    "**Solution**: For our production line case study, let's explore optimization through scenario analysis. We'll simulate different scenarios to evaluate their impact on key performance indicators (KPIs), specifically focusing on production time and throughput. This approach helps identify the most effective strategies to improve the production line's efficiency.\n",
    "\n",
    "#### Scenario Analysis Framework\n",
    "\n",
    "+ **Baseline Scenario**: Our original model with fixed numbers of workers at each stage.\n",
    "+ **Increased Workers Scenario**: Adding more workers to a specific stage to see if it reduces overall production time and increases throughput.\n",
    "+ **Shift Patterns Scenario**: Introducing shift patterns to simulate extended working hours without increasing the number of workers.\n",
    "+ **Automation Scenario**: Implementing automation at a stage to reduce the production time required for that stage.\n",
    "\n",
    "#### Implementing Scenarios in SimPy\n",
    "\n",
    "We'll modify our SimPy model to accommodate these scenarios. For simplicity, we'll focus on the \"Increased Workers Scenario\" for the assembly stage as an example.\n"
   ]
  },
  {
   "cell_type": "code",
   "execution_count": 48,
   "metadata": {},
   "outputs": [
    {
     "name": "stdout",
     "output_type": "stream",
     "text": [
      "Running scenario: baseline\n",
      "Running scenario: increased_assembly_workers\n",
      "Running scenario: increased_assembly_workers_2\n",
      "baseline: Avg Production Time = 17.50 min, Throughput = 16.00 products/hour\n",
      "increased_assembly_workers: Avg Production Time = 17.50 min, Throughput = 16.00 products/hour\n",
      "increased_assembly_workers_2: Avg Production Time = 23.50 min, Throughput = 10.00 products/hour\n"
     ]
    }
   ],
   "source": [
    "import simpy\n",
    "import random\n",
    "\n",
    "# Constants Definition\n",
    "SIMULATION_TIME = 60  # Simulation time in minutes\n",
    "TIME_ASSEMBLY = 5  # Time it takes to assemble a product\n",
    "TIME_QC = 3  # Time for quality control check\n",
    "TIME_PACKAGING = 2  # Time to package a product\n",
    "PRODUCTION_RATE = 2  # Time between starting production of each product in minutes\n",
    "\n",
    "# Scenario Parameters\n",
    "SCENARIOS = {\n",
    "    'baseline': {'assembly_workers': 2, 'qc_workers': 1, 'packaging_workers': 2},\n",
    "    'increased_assembly_workers': {'assembly_workers': 4, 'qc_workers': 1, 'packaging_workers': 2},\n",
    "    'increased_assembly_workers_2': {'assembly_workers': 1, 'qc_workers': 1, 'packaging_workers': 1},\n",
    "    # Add other scenarios here as needed\n",
    "}\n",
    "\n",
    "class ProductionLine:\n",
    "    def __init__(self, env, assembly_workers, qc_workers, packaging_workers):\n",
    "        self.env = env\n",
    "        self.assembly_workers = simpy.Resource(env, assembly_workers)\n",
    "        self.qc_workers = simpy.Resource(env, qc_workers)\n",
    "        self.packaging_workers = simpy.Resource(env, packaging_workers)\n",
    "        self.production_times = []\n",
    "\n",
    "    def process_product(self, product_id):\n",
    "        start_time = self.env.now\n",
    "        with self.assembly_workers.request() as req:\n",
    "            yield req\n",
    "            yield self.env.timeout(TIME_ASSEMBLY)\n",
    "        with self.qc_workers.request() as req:\n",
    "            yield req\n",
    "            yield self.env.timeout(TIME_QC)\n",
    "        with self.packaging_workers.request() as req:\n",
    "            yield req\n",
    "            yield self.env.timeout(TIME_PACKAGING)\n",
    "        end_time = self.env.now\n",
    "        self.production_times.append(end_time - start_time)\n",
    "\n",
    "def production_sequence(env, production_line):\n",
    "    product_id = 1\n",
    "    while True:\n",
    "        yield env.timeout(PRODUCTION_RATE)\n",
    "        env.process(production_line.process_product(product_id))\n",
    "        product_id += 1\n",
    "\n",
    "def run_simulation(scenario_name, scenario_config):\n",
    "    env = simpy.Environment()\n",
    "    production_line = ProductionLine(env, **scenario_config)\n",
    "    env.process(production_sequence(env, production_line))\n",
    "    env.run(until=SIMULATION_TIME)\n",
    "    return production_line.production_times\n",
    "\n",
    "# Running Scenarios and Collecting Results\n",
    "results = {}\n",
    "for scenario_name, scenario_config in SCENARIOS.items():\n",
    "    print(f\"Running scenario: {scenario_name}\")\n",
    "    production_times = run_simulation(scenario_name, scenario_config)\n",
    "    average_production_time = sum(production_times) / len(production_times) if production_times else 0\n",
    "    throughput = len(production_times) / (SIMULATION_TIME / 60)  # Products per hour\n",
    "    results[scenario_name] = (average_production_time, throughput)\n",
    "\n",
    "# Displaying Results\n",
    "for scenario_name, (avg_time, throughput) in results.items():\n",
    "    print(f\"{scenario_name}: Avg Production Time = {avg_time:.2f} min, Throughput = {throughput:.2f} products/hour\")\n"
   ]
  },
  {
   "cell_type": "markdown",
   "metadata": {},
   "source": [
    "#### Analyzing Scenario Outcomes\n",
    "\n",
    "+ **Baseline vs. Increased Workers**: By comparing the average production time and throughput between the baseline and the increased assembly workers scenarios, you can assess the impact of adding more workers to the assembly stage.\n",
    "+ **Further Exploration**: Similar methods can be applied to test other scenarios, like shift patterns and automation, by adjusting the relevant parameters and running the simulation.\n",
    "\n",
    "This scenario analysis approach provides a systematic way to evaluate different strategies for optimizing the production line. It highlights the trade-offs and potential benefits of various operational changes, guiding decision-making towards the most effective improvements."
   ]
  },
  {
   "cell_type": "markdown",
   "metadata": {},
   "source": [
    "### Sensitivity Analysis\n",
    "\n",
    "Sensitivity analysis examines how variation in input parameters affects the output of the simulation model. This analysis is crucial for identifying which parameters are most influential on system performance and understanding the system's robustness to variations in inputs.\n",
    "\n",
    "**Example**: In the hospital ED case study, you might explore how changes in patient arrival rates or treatment times impact wait times and resource utilization. Sensitivity analysis can help identify thresholds beyond which the system becomes overwhelmed, guiding capacity planning and resource allocation decisions.\n"
   ]
  },
  {
   "cell_type": "markdown",
   "metadata": {},
   "source": [
    "To conduct a sensitivity analysis on the Hospital Emergency Department (ED) case study, we will explore how varying patient arrival rates and treatment times impact key performance indicators (KPIs) like wait times and resource utilization. Sensitivity analysis allows us to understand the system's behavior under different conditions and identify critical thresholds that could inform capacity planning and resource allocation decisions.\n",
    "\n",
    "#### Adjusting the Hospital ED Model for Sensitivity Analysis\n",
    "We'll modify the Hospital ED model to make patient arrival rates and treatment times variable parameters. This flexibility allows us to systematically adjust these inputs and observe the outcomes."
   ]
  },
  {
   "cell_type": "code",
   "execution_count": 59,
   "metadata": {},
   "outputs": [
    {
     "name": "stdout",
     "output_type": "stream",
     "text": [
      "Treatment mean: 10 mins, Interarrival mean: 5 mins, Average wait time: 26.60 mins\n",
      "Treatment mean: 10 mins, Interarrival mean: 10 mins, Average wait time: 0.88 mins\n",
      "Treatment mean: 10 mins, Interarrival mean: 15 mins, Average wait time: 1.23 mins\n",
      "Treatment mean: 15 mins, Interarrival mean: 5 mins, Average wait time: 75.17 mins\n",
      "Treatment mean: 15 mins, Interarrival mean: 10 mins, Average wait time: 1.68 mins\n",
      "Treatment mean: 15 mins, Interarrival mean: 15 mins, Average wait time: 1.23 mins\n",
      "Treatment mean: 20 mins, Interarrival mean: 5 mins, Average wait time: 82.37 mins\n",
      "Treatment mean: 20 mins, Interarrival mean: 10 mins, Average wait time: 20.65 mins\n",
      "Treatment mean: 20 mins, Interarrival mean: 15 mins, Average wait time: 10.53 mins\n"
     ]
    }
   ],
   "source": [
    "import simpy\n",
    "import random\n",
    "import matplotlib.pyplot as plt\n",
    "\n",
    "# Parameters for the base scenario\n",
    "NUM_DOCTORS = 3\n",
    "NUM_BEDS = 5\n",
    "BED_NEEDED_PROBABILITY = 0.5\n",
    "SIMULATION_TIME = 480  # Simulate for 8 hours, assuming time units are in minutes\n",
    "\n",
    "class HospitalED:\n",
    "    def __init__(self, env, treatment_time_mean, patient_interarrival_time):\n",
    "        self.env = env\n",
    "        self.doctor = simpy.Resource(env, NUM_DOCTORS)\n",
    "        self.bed = simpy.Resource(env, NUM_BEDS)\n",
    "        self.treatment_time_mean = treatment_time_mean\n",
    "        self.patient_interarrival_time = patient_interarrival_time\n",
    "        self.wait_times = []\n",
    "    \n",
    "    def patient(self, name):\n",
    "        arrival_time = self.env.now\n",
    "        needs_bed = random.random() < BED_NEEDED_PROBABILITY\n",
    "        with self.doctor.request() as req:\n",
    "            yield req\n",
    "            wait_time = self.env.now - arrival_time\n",
    "            self.wait_times.append(wait_time)\n",
    "            treatment_duration = random.expovariate(1.0 / self.treatment_time_mean)\n",
    "            yield self.env.timeout(treatment_duration)\n",
    "            if needs_bed:\n",
    "                with self.bed.request() as bed_req:\n",
    "                    yield bed_req\n",
    "                    yield self.env.timeout(treatment_duration)\n",
    "\n",
    "def patient_arrivals(env, hospital):\n",
    "    patient_id = 0\n",
    "    while True:\n",
    "        yield env.timeout(random.expovariate(1.0 / hospital.patient_interarrival_time))\n",
    "        patient_id += 1\n",
    "        env.process(hospital.patient(f\"Patient {patient_id}\"))\n",
    "\n",
    "def run_simulation(treatment_time_mean, patient_interarrival_time, simulation_time=SIMULATION_TIME):\n",
    "    env = simpy.Environment()\n",
    "    hospital = HospitalED(env, treatment_time_mean, patient_interarrival_time)\n",
    "    env.process(patient_arrivals(env, hospital))\n",
    "    env.run(until=simulation_time)\n",
    "    return hospital.wait_times\n",
    "\n",
    "# Sensitivity Analysis Variables\n",
    "treatment_time_means = [10, 15, 20]  # Mean treatment times in minutes\n",
    "patient_interarrival_times = [5, 10, 15]  # Mean patient interarrival times in minutes\n",
    "\n",
    "# Run simulations across different scenarios\n",
    "\n",
    "# Initialize a dictionary to hold the results\n",
    "# Structure: {treatment_time_mean: {patient_interarrival_time: avg_wait_time}}\n",
    "avg_wait_times = {treatment_time_mean: {} for treatment_time_mean in treatment_time_means}\n",
    "\n",
    "# Modified section for running simulations and collecting data\n",
    "for treatment_time_mean in treatment_time_means:\n",
    "    for patient_interarrival_time in patient_interarrival_times:\n",
    "        wait_times = run_simulation(treatment_time_mean, patient_interarrival_time)\n",
    "        avg_wait_time = sum(wait_times) / len(wait_times) if wait_times else 0\n",
    "        avg_wait_times[treatment_time_mean][patient_interarrival_time] = avg_wait_time\n",
    "        print(f\"Treatment mean: {treatment_time_mean} mins, Interarrival mean: {patient_interarrival_time} mins, Average wait time: {avg_wait_time:.2f} mins\")\n",
    "\n"
   ]
  },
  {
   "cell_type": "markdown",
   "metadata": {},
   "source": [
    "#### Interpreting Results\n",
    "By running this simulation across a range of treatment time means and patient interarrival times, we can observe how variations in these parameters affect the average wait time for patients. This analysis helps identify critical points at which the ED's capacity is strained, indicating a need for additional resources or process improvements.\n",
    "\n",
    "#### Visualizing Sensitivity Analysis Results\n",
    "To better visualize the impact of these parameters, you could plot the average wait times across different scenarios using matplotlib. Here's a simple example to get you started:"
   ]
  },
  {
   "cell_type": "code",
   "execution_count": 60,
   "metadata": {},
   "outputs": [],
   "source": [
    "def plot_sensitivity_analysis(patient_interarrival_times, treatment_time_means, avg_wait_times):\n",
    "    plt.figure(figsize=(10, 6))\n",
    "    for treatment_time_mean, interarrival_times_to_wait in avg_wait_times.items():\n",
    "        # Extracting avg wait times in the order of patient_interarrival_times\n",
    "        wait_times_ordered = [interarrival_times_to_wait[interarrival] for interarrival in patient_interarrival_times]\n",
    "        plt.plot(patient_interarrival_times, wait_times_ordered, marker='o', label=f'Treatment Time {treatment_time_mean} mins')\n",
    "    \n",
    "    plt.xlabel('Patient Interarrival Time (mins)')\n",
    "    plt.ylabel('Average Wait Time (mins)')\n",
    "    plt.title('Sensitivity Analysis of Patient Wait Times')\n",
    "    plt.xticks(patient_interarrival_times)\n",
    "    plt.legend()\n",
    "    plt.grid(True)\n",
    "    plt.show()\n"
   ]
  },
  {
   "cell_type": "code",
   "execution_count": 61,
   "metadata": {},
   "outputs": [
    {
     "data": {
      "image/png": "[encoded data removed]",
      "text/plain": [
       "<Figure size 1000x600 with 1 Axes>"
      ]
     },
     "metadata": {},
     "output_type": "display_data"
    }
   ],
   "source": [
    "plot_sensitivity_analysis(patient_interarrival_times, treatment_time_means, avg_wait_times)\n"
   ]
  },
  {
   "cell_type": "markdown",
   "metadata": {},
   "source": [
    "### Optimization Techniques\n",
    "\n",
    "Optimization techniques involve systematically searching for the best parameter settings or configurations to achieve specific objectives. This can range from simple trial-and-error approaches to more sophisticated optimization algorithms.\n",
    "\n",
    "#### Implementing Optimization with SimPy\n",
    "\n",
    "1. Define the Objective Function: The first step is to clearly define what you're trying to optimize (e.g., minimize average wait times in the ED). This involves creating a function that calculates the metric of interest from the simulation outputs.\n",
    "\n",
    "2. Parameter Space Exploration: Next, systematically vary the parameters of interest (e.g., number of doctors, beds) to understand their impact on the objective. This can be done through grid search, random search, or more sophisticated algorithms.\n",
    "\n",
    "3. Use of External Libraries: For more complex optimization problems, you might integrate SimPy with libraries like scipy.optimize, pyomo, or DEAP for genetic algorithms. These libraries can help automate the search for optimal solutions.\n",
    "\n",
    "4. Iterative Refinement: Optimization is often an iterative process. Initial findings may lead to adjustments in the simulation model or the exploration of new scenarios based on insights gained.\n"
   ]
  },
  {
   "cell_type": "markdown",
   "metadata": {},
   "source": [
    "**Example**: Using the distribution network case study, you could aim to minimize shipping costs and delivery times. This might involve optimizing inventory levels, warehouse locations, or routing strategies. Techniques such as genetic algorithms, linear programming, or simulation-based optimization can be employed, possibly integrated with external optimization libraries or tools due to SimPy's focus on simulation rather than optimization.\n"
   ]
  },
  {
   "cell_type": "markdown",
   "metadata": {},
   "source": [
    "Implementing optimization for a distribution network, where the goal is to minimize shipping costs and delivery times, involves a multi-faceted approach. Given SimPy's simulation capabilities, optimization often requires integrating external libraries designed for optimization tasks. Here, we'll outline a strategy to approach this problem, focusing on optimizing inventory levels as an example. We'll use Python's scipy.optimize for a simple optimization routine.\n",
    "\n",
    "####  Step 1: Define the Problem within the SimPy Framework\n",
    "First, we need a simplified version of our distribution network simulation that tracks shipping costs and delivery times. We'll focus on a single aspect—optimizing inventory levels to minimize shipping costs under varying demand scenarios."
   ]
  },
  {
   "cell_type": "code",
   "execution_count": 65,
   "metadata": {},
   "outputs": [],
   "source": [
    "import simpy\n",
    "import random\n",
    "import numpy as np\n",
    "from scipy.optimize import minimize\n",
    "\n",
    "# Parameters\n",
    "SIMULATION_TIME = 30\n",
    "ORDER_RATE = 0.1  # Average demand per time unit\n",
    "SHIPMENT_COST_PER_UNIT = 5  # Cost to ship a single unit\n",
    "STORAGE_COST_PER_UNIT = 0.1  # Cost to store a single unit per time unit\n",
    "INITIAL_INVENTORY = 100\n",
    "REORDER_POINT = 50\n",
    "REORDER_AMOUNT = 100\n",
    "\n",
    "# Simulation of the Distribution Network\n",
    "def distribution_network_simulation(reorder_point, reorder_amount, order_rate, simulation_time):\n",
    "    \"\"\"Simulate the distribution network, returning the total cost.\"\"\"\n",
    "    env = simpy.Environment()\n",
    "    inventory = INITIAL_INVENTORY\n",
    "    total_cost = 0\n",
    "\n",
    "    def order_process(env):\n",
    "        nonlocal inventory, total_cost\n",
    "        while True:\n",
    "            yield env.timeout(random.expovariate(order_rate))\n",
    "            order_size = random.randint(1, 10)  # Example order size\n",
    "            inventory -= order_size\n",
    "            if inventory < reorder_point:\n",
    "                inventory += reorder_amount\n",
    "                total_cost += reorder_amount * SHIPMENT_COST_PER_UNIT\n",
    "\n",
    "    def storage_cost_process(env):\n",
    "        nonlocal inventory, total_cost\n",
    "        while True:\n",
    "            yield env.timeout(1)  # Check storage cost at each time unit\n",
    "            total_cost += inventory * STORAGE_COST_PER_UNIT\n",
    "\n",
    "    env.process(order_process(env))\n",
    "    env.process(storage_cost_process(env))\n",
    "    env.run(until=simulation_time)\n",
    "\n",
    "    return total_cost\n",
    "\n",
    "# Objective Function to Minimize\n",
    "def objective_function(x):\n",
    "    reorder_point, reorder_amount = x\n",
    "    total_cost = distribution_network_simulation(reorder_point, reorder_amount, ORDER_RATE, SIMULATION_TIME)\n",
    "    return total_cost\n",
    "\n"
   ]
  },
  {
   "cell_type": "markdown",
   "metadata": {},
   "source": [
    "#### Step 2: Apply Optimization Technique\n",
    "\n",
    "We'll use scipy.optimize.minimize to find the optimal reorder point and reorder amount that minimize the total cost. Since this is a demonstration, we'll keep the model and optimization problem relatively simple."
   ]
  },
  {
   "cell_type": "code",
   "execution_count": 66,
   "metadata": {},
   "outputs": [
    {
     "name": "stdout",
     "output_type": "stream",
     "text": [
      "Optimal Reorder Point: 50.00, Optimal Reorder Amount: 100.00\n"
     ]
    }
   ],
   "source": [
    "from scipy.optimize import minimize\n",
    "\n",
    "# Initial Guess\n",
    "x0 = [50, 100]  # Initial guess for reorder point and reorder amount\n",
    "\n",
    "# Bounds to ensure reorder point and reorder amount are positive\n",
    "bounds = [(0, None), (0, None)]\n",
    "\n",
    "# Run the optimization\n",
    "result = minimize(objective_function, x0, method='TNC', bounds=bounds)\n",
    "\n",
    "if result.success:\n",
    "    optimal_reorder_point, optimal_reorder_amount = result.x\n",
    "    print(f\"Optimal Reorder Point: {optimal_reorder_point:.2f}, Optimal Reorder Amount: {optimal_reorder_amount:.2f}\")\n",
    "else:\n",
    "    print(\"Optimization was unsuccessful. Please check the objective function and constraints.\")\n",
    "\n"
   ]
  },
  {
   "cell_type": "markdown",
   "metadata": {},
   "source": [
    "#### Integration with External Libraries for More Complex Scenarios\n",
    "\n",
    "For more complex scenarios involving warehouse locations or routing strategies, you might explore:\n",
    "\n",
    "+ Genetic Algorithms: Useful for problems with many local optima, such as routing. Python libraries like DEAP can be used.\n",
    "+ Linear Programming: For problems that can be formulated linearly, such as inventory levels or allocation problems. Libraries like PuLP are suitable.\n",
    "+ Simulation-Based Optimization: Where the simulation itself forms part of the objective function or constraints, necessitating iterative simulation runs.\n",
    "\n",
    "#### Note on Implementation\n",
    "The example provided focuses on a conceptual framework for integrating SimPy simulations with optimization techniques. Actual implementation details, especially for complex scenarios, require a thorough understanding of both the problem domain and the optimization methods being applied. For real-world applications, consider each decision variable's impact, constraints, and the computational complexity of the optimization.\n",
    "\n",
    "If you have a specific scenario or a more detailed problem statement in mind, let me know! This way, we can tailor the approach more closely to your needs."
   ]
  },
  {
   "cell_type": "markdown",
   "metadata": {},
   "source": [
    "\n",
    "**Example**: Suppose we want to minimize patient wait times in the hospital ED by optimizing the number of doctors. An iterative approach might involve running the simulation across a range of doctor counts, measuring the impact on average wait times, and identifying the optimal count within given constraints (e.g., budget).\n",
    "\n",
    "To implement the optimization example for minimizing patient wait times in the hospital Emergency Department (ED) by finding the optimal number of doctors, we'll follow an iterative approach. We will run the simulation across a range of doctor counts, measure the impact on average wait times, and identify the optimal doctor count given certain constraints such as budget limits or physical space.\n",
    "\n",
    "#### Step 1: Define the Simulation\n",
    "\n",
    "First, let's define a function that simulates the hospital ED for a given number of doctors and calculates the average patient wait time:\n"
   ]
  },
  {
   "cell_type": "code",
   "execution_count": 67,
   "metadata": {},
   "outputs": [],
   "source": [
    "import simpy\n",
    "import random\n",
    "import numpy as np\n",
    "\n",
    "# Parameters\n",
    "NUM_BEDS = 5\n",
    "TREATMENT_TIME_MEAN = 20\n",
    "PATIENT_INTERARRIVAL_TIME = 10  # Average time between patient arrivals in minutes\n",
    "SIMULATION_TIME = 480  # Simulate for 8 hours, time in minutes\n",
    "\n",
    "def simulate_hospital_ed(num_doctors):\n",
    "    env = simpy.Environment()\n",
    "    doctor = simpy.Resource(env, num_doctors)\n",
    "    bed = simpy.Resource(env, NUM_BEDS)\n",
    "    wait_times = []\n",
    "    \n",
    "    def patient(env):\n",
    "        arrival_time = env.now\n",
    "        with doctor.request() as req:\n",
    "            yield req\n",
    "            wait_time = env.now - arrival_time\n",
    "            wait_times.append(wait_time)\n",
    "            yield env.timeout(random.expovariate(1.0 / TREATMENT_TIME_MEAN))\n",
    "            if random.random() < 0.5:  # Assume 50% of patients need a bed\n",
    "                with bed.request() as bed_req:\n",
    "                    yield bed_req\n",
    "                    yield env.timeout(random.expovariate(1.0 / TREATMENT_TIME_MEAN))\n",
    "    \n",
    "    def patient_arrivals(env):\n",
    "        while True:\n",
    "            yield env.timeout(random.expovariate(1.0 / PATIENT_INTERARRIVAL_TIME))\n",
    "            env.process(patient(env))\n",
    "    \n",
    "    env.process(patient_arrivals(env))\n",
    "    env.run(until=SIMULATION_TIME)\n",
    "    \n",
    "    return np.mean(wait_times) if wait_times else float('inf')\n"
   ]
  },
  {
   "cell_type": "markdown",
   "metadata": {},
   "source": [
    "#### Step 2: Iterative Optimization\n",
    "\n",
    "Now, let's iterate over a range of doctor counts to find the optimal number that minimizes the average patient wait time. We'll consider a realistic range based on the hospital's capacity and budget constraints."
   ]
  },
  {
   "cell_type": "code",
   "execution_count": 68,
   "metadata": {},
   "outputs": [
    {
     "name": "stdout",
     "output_type": "stream",
     "text": [
      "Number of doctors: 1, Average wait time: 125.09 minutes\n",
      "Number of doctors: 2, Average wait time: 95.23 minutes\n",
      "Number of doctors: 3, Average wait time: 14.62 minutes\n",
      "Number of doctors: 4, Average wait time: 23.93 minutes\n",
      "Number of doctors: 5, Average wait time: 0.62 minutes\n",
      "Number of doctors: 6, Average wait time: 0.41 minutes\n",
      "Number of doctors: 7, Average wait time: 0.00 minutes\n",
      "Number of doctors: 8, Average wait time: 0.00 minutes\n",
      "Number of doctors: 9, Average wait time: 0.00 minutes\n",
      "Number of doctors: 10, Average wait time: 0.00 minutes\n",
      "\n",
      "Optimal number of doctors: 7 with an average wait time of 0.00 minutes\n"
     ]
    }
   ],
   "source": [
    "# Range of doctor counts to explore\n",
    "doctor_counts = range(1, 11)  # From 1 to 10 doctors\n",
    "\n",
    "# Track the best configuration\n",
    "best_average_wait_time = float('inf')\n",
    "best_num_doctors = 0\n",
    "\n",
    "# Iterate over possible number of doctors\n",
    "for num_doctors in doctor_counts:\n",
    "    average_wait_time = simulate_hospital_ed(num_doctors)\n",
    "    print(f\"Number of doctors: {num_doctors}, Average wait time: {average_wait_time:.2f} minutes\")\n",
    "    \n",
    "    if average_wait_time < best_average_wait_time:\n",
    "        best_average_wait_time = average_wait_time\n",
    "        best_num_doctors = num_doctors\n",
    "\n",
    "print(f\"\\nOptimal number of doctors: {best_num_doctors} with an average wait time of {best_average_wait_time:.2f} minutes\")\n"
   ]
  },
  {
   "cell_type": "markdown",
   "metadata": {},
   "source": [
    "#### Analysis\n",
    "\n",
    "This approach runs the simulation for different numbers of doctors and identifies the configuration that results in the lowest average wait time for patients. It provides a straightforward way to evaluate how increasing or decreasing staff affects patient wait times, which is crucial for planning and budgeting purposes.\n",
    "\n",
    "Keep in mind, this simple optimization does not consider other potentially important factors such as varying patient arrival rates throughout the day, the severity of conditions, and the impact on treatment quality or staff well-being. Incorporating these factors would require a more complex model and potentially more advanced optimization techniques.\n",
    "\n",
    "This iterative optimization method offers a practical way to make data-driven decisions to improve hospital ED efficiency within given constraints."
   ]
  },
  {
   "cell_type": "markdown",
   "metadata": {},
   "source": [
    "\n",
    "### Conclusion\n",
    "Optimizing system performance using SimPy requires a clear understanding of the system's dynamics, the objectives to be achieved, and the parameters that can be adjusted. By combining SimPy's simulation capabilities with scenario analysis, sensitivity analysis, and optimization techniques, you can make informed decisions to improve system efficiency and effectiveness."
   ]
  },
  {
   "cell_type": "markdown",
   "metadata": {},
   "source": [
    "## Chapter 8: Integrating SimPy with Other Python Libraries\n",
    "\n",
    "Integrating SimPy with other Python libraries can significantly enhance the capabilities of your simulations. Libraries such as pandas for data analysis, matplotlib and seaborn for visualization, and scikit-learn for machine learning can be used to analyze and interpret simulation outputs, improve visual communication of results, and even incorporate predictive modeling into your simulations. Here’s how you can leverage these libraries in conjunction with SimPy.\n",
    "\n",
    "### Data Analysis with Pandas\n",
    "\n",
    "Pandas is an essential tool for data analysis and manipulation. You can use pandas to structure your simulation outputs into DataFrame objects, making it easier to analyze and manipulate the data.\n",
    "\n",
    "#### Example: Storing and analyzing hospital ED simulation data with pandas."
   ]
  },
  {
   "cell_type": "code",
   "execution_count": 72,
   "metadata": {},
   "outputs": [],
   "source": [
    "import simpy\n",
    "import random\n",
    "import pandas as pd\n",
    "\n",
    "# Simulation parameters\n",
    "NUM_BEDS = 5\n",
    "TREATMENT_TIME_MEAN = 20\n",
    "PATIENT_INTERARRIVAL_TIME = 10  # Average time between patient arrivals in minutes\n",
    "SIMULATION_TIME = 480  # Simulate for 8 hours, time in minutes\n",
    "\n",
    "def simulate_hospital_ed(num_doctors, patient_interarrival_time, treatment_time_mean, simulation_time):\n",
    "    \"\"\"Simulate the hospital ED for a given number of doctors, returning the collected data.\"\"\"\n",
    "    env = simpy.Environment()\n",
    "    doctor = simpy.Resource(env, num_doctors)\n",
    "    bed = simpy.Resource(env, NUM_BEDS)\n",
    "    data = []  # List to collect data\n",
    "    \n",
    "    def patient(env, patient_id):\n",
    "        arrival_time = env.now\n",
    "        with doctor.request() as req:\n",
    "            yield req\n",
    "            wait_time = env.now - arrival_time\n",
    "            treatment_duration = random.expovariate(1.0 / treatment_time_mean)\n",
    "            yield env.timeout(treatment_duration)\n",
    "            if random.random() < 0.5:  # Assume 50% of patients need a bed\n",
    "                with bed.request() as bed_req:\n",
    "                    yield bed_req\n",
    "                    yield env.timeout(treatment_duration)\n",
    "        data.append((patient_id, num_doctors, wait_time))\n",
    "    \n",
    "    def patient_arrivals(env):\n",
    "        patient_id = 1\n",
    "        while True:\n",
    "            yield env.timeout(random.expovariate(1.0 / patient_interarrival_time))\n",
    "            env.process(patient(env, patient_id))\n",
    "            patient_id += 1\n",
    "    \n",
    "    env.process(patient_arrivals(env))\n",
    "    env.run(until=simulation_time)\n",
    "    \n",
    "    return data\n",
    "\n",
    "# Collect data from simulation runs with different numbers of doctors\n",
    "all_data = []\n",
    "for num_doctors in range(1, 6):  # Varying the number of doctors from 1 to 5\n",
    "    sim_data = simulate_hospital_ed(num_doctors, PATIENT_INTERARRIVAL_TIME, TREATMENT_TIME_MEAN, SIMULATION_TIME)\n",
    "    all_data.extend(sim_data)\n",
    "\n",
    "# Convert collected data to a pandas DataFrame\n",
    "df = pd.DataFrame(all_data, columns=['PatientID', 'NumDoctors', 'WaitTime'])\n"
   ]
  },
  {
   "cell_type": "code",
   "execution_count": 73,
   "metadata": {},
   "outputs": [
    {
     "name": "stdout",
     "output_type": "stream",
     "text": [
      "   NumDoctors   WaitTime\n",
      "0           1  99.886418\n",
      "1           2  59.634615\n",
      "2           3   7.266762\n",
      "3           4   2.400843\n",
      "4           5   0.000000\n"
     ]
    }
   ],
   "source": [
    "average_wait_times = df.groupby('NumDoctors')['WaitTime'].mean().reset_index()\n",
    "print(average_wait_times)\n"
   ]
  },
  {
   "cell_type": "code",
   "execution_count": 76,
   "metadata": {},
   "outputs": [
    {
     "data": {
      "image/png": "[encoded data removed]",
      "text/plain": [
       "<Figure size 640x480 with 1 Axes>"
      ]
     },
     "metadata": {},
     "output_type": "display_data"
    }
   ],
   "source": [
    "import seaborn as sns\n",
    "import matplotlib.pyplot as plt\n",
    "\n",
    "sns.barplot(data=average_wait_times, x='NumDoctors', y='WaitTime')\n",
    "plt.title('Average Wait Time by Number of Doctors')\n",
    "plt.xlabel('Number of Doctors')\n",
    "plt.ylabel('Average Wait Time (minutes)')\n",
    "plt.show()\n"
   ]
  },
  {
   "cell_type": "markdown",
   "metadata": {},
   "source": [
    "### Machine Learning for Predictive Modeling with Scikit-Learn\n",
    "\n",
    "Scikit-learn is a machine learning library that provides simple and efficient tools for data mining and data analysis. It can be used to build predictive models based on your simulation data.\n",
    "\n",
    "#### Example: Predicting average wait times based on the number of doctors using linear regression."
   ]
  },
  {
   "cell_type": "code",
   "execution_count": 77,
   "metadata": {},
   "outputs": [],
   "source": [
    "def collect_simulation_data(num_doctors_list, patient_interarrival_time, treatment_time_mean, simulation_time):\n",
    "    simulation_results = []\n",
    "\n",
    "    for num_doctors in num_doctors_list:\n",
    "        sim_data = simulate_hospital_ed(num_doctors, patient_interarrival_time, treatment_time_mean, simulation_time)\n",
    "        df = pd.DataFrame(sim_data, columns=['PatientID', 'NumDoctors', 'WaitTime'])\n",
    "        avg_wait_time = df['WaitTime'].mean()\n",
    "        simulation_results.append((num_doctors, avg_wait_time))\n",
    "\n",
    "    return pd.DataFrame(simulation_results, columns=['NumDoctors', 'AverageWaitTime'])\n",
    "\n",
    "# Define a range of doctor counts to simulate\n",
    "num_doctors_list = range(1, 11)  # 1 to 10 doctors\n",
    "\n",
    "# Collect simulation data\n",
    "df = collect_simulation_data(num_doctors_list, PATIENT_INTERARRIVAL_TIME, TREATMENT_TIME_MEAN, SIMULATION_TIME)\n",
    "\n"
   ]
  },
  {
   "cell_type": "markdown",
   "metadata": {},
   "source": [
    "Now, we'll use the collected data to build a simple linear regression model to predict average wait times based on the number of doctors:"
   ]
  },
  {
   "cell_type": "code",
   "execution_count": 78,
   "metadata": {},
   "outputs": [
    {
     "name": "stdout",
     "output_type": "stream",
     "text": [
      "Mean Absolute Error: 36.19 minutes\n"
     ]
    },
    {
     "data": {
      "image/png": "[encoded data removed]",
      "text/plain": [
       "<Figure size 640x480 with 1 Axes>"
      ]
     },
     "metadata": {},
     "output_type": "display_data"
    }
   ],
   "source": [
    "from sklearn.model_selection import train_test_split\n",
    "from sklearn.linear_model import LinearRegression\n",
    "from sklearn.metrics import mean_absolute_error\n",
    "\n",
    "# Prepare the data\n",
    "X = df[['NumDoctors']]  # Feature: Number of doctors\n",
    "y = df['AverageWaitTime']  # Target: Average wait time\n",
    "\n",
    "# Split the data into training and testing sets\n",
    "X_train, X_test, y_train, y_test = train_test_split(X, y, test_size=0.2, random_state=42)\n",
    "\n",
    "# Initialize and train the linear regression model\n",
    "model = LinearRegression()\n",
    "model.fit(X_train, y_train)\n",
    "\n",
    "# Make predictions on the testing set\n",
    "y_pred = model.predict(X_test)\n",
    "\n",
    "# Evaluate the model\n",
    "mae = mean_absolute_error(y_test, y_pred)\n",
    "print(f\"Mean Absolute Error: {mae:.2f} minutes\")\n",
    "\n",
    "# Optional: Visualize the model\n",
    "plt.scatter(X_train, y_train, color='blue', label='Training data')\n",
    "plt.scatter(X_test, y_test, color='red', label='Testing data')\n",
    "plt.plot(X_test, y_pred, color='black', linewidth=2, label='Predicted regression line')\n",
    "plt.title('Predicted Wait Times vs. Number of Doctors')\n",
    "plt.xlabel('Number of Doctors')\n",
    "plt.ylabel('Average Wait Time (minutes)')\n",
    "plt.legend()\n",
    "plt.show()\n"
   ]
  },
  {
   "cell_type": "markdown",
   "metadata": {},
   "source": [
    "This predictive model uses the data generated from the simulations to learn the relationship between the number of doctors and the average wait time in the hospital ED. By evaluating the model with the testing set, we can assess its accuracy and apply it to make predictions under new scenarios or configurations.\n",
    "\n",
    "By integrating SimPy simulations with machine learning techniques, we can not only analyze and understand current system performance but also predict future outcomes and make informed decisions to optimize system operations."
   ]
  },
  {
   "cell_type": "markdown",
   "metadata": {},
   "source": [
    "### Conclusion\n",
    "\n",
    "Integrating SimPy with pandas, matplotlib, seaborn, and scikit-learn enhances the analysis, visualization, and predictive modeling capabilities of your simulations. This approach not only helps in understanding and optimizing complex systems but also in communicating results effectively and making data-driven decisions."
   ]
  },
  {
   "cell_type": "markdown",
   "metadata": {},
   "source": [
    "# Uso de `yield` en SimPy"
   ]
  },
  {
   "cell_type": "code",
   "execution_count": 79,
   "metadata": {},
   "outputs": [],
   "source": [
    "def tst_yield():\n",
    "    i = 0\n",
    "\n",
    "    while i < 10:\n",
    "        yield i\n",
    "        i += 1"
   ]
  },
  {
   "cell_type": "code",
   "execution_count": 82,
   "metadata": {},
   "outputs": [
    {
     "name": "stdout",
     "output_type": "stream",
     "text": [
      "0\n",
      "1\n",
      "2\n",
      "3\n",
      "4\n",
      "5\n",
      "6\n",
      "7\n",
      "8\n",
      "9\n"
     ]
    }
   ],
   "source": [
    "for n in tst_yield():\n",
    "    print(n)"
   ]
  },
  {
   "cell_type": "markdown",
   "metadata": {},
   "source": [
    "En SimPy, `yield` se utiliza principalmente para modelar el paso del tiempo y la interacción con recursos en simulaciones de eventos discretos. Al usar `yield` dentro de un proceso de SimPy, le indicas a la simulación que espere por algún evento, como el avance del tiempo, la disponibilidad de un recurso o la finalización de otro proceso. Este enfoque permite simular complejas interacciones y dependencias temporales entre diferentes entidades en un sistema.\n",
    "\n",
    "### Uso Básico de yield con SimPy\n",
    "\n",
    "#### Esperar un Periodo de Tiempo\n",
    "\n",
    "Uno de los usos más comunes de `yield` es pausar la ejecución de un proceso por un tiempo determinado. Esto se hace a través de `env.timeout(tiempo)`, donde env es el entorno de simulación de SimPy y tiempo es el tiempo de espera."
   ]
  },
  {
   "cell_type": "code",
   "execution_count": 83,
   "metadata": {},
   "outputs": [
    {
     "name": "stdout",
     "output_type": "stream",
     "text": [
      "Inicio: 0\n",
      "Fin: 5\n"
     ]
    }
   ],
   "source": [
    "import simpy\n",
    "\n",
    "def mi_proceso(env):\n",
    "    print('Inicio:', env.now)\n",
    "    yield env.timeout(5)  # Esperar 5 unidades de tiempo\n",
    "    print('Fin:', env.now)\n",
    "\n",
    "env = simpy.Environment()\n",
    "env.process(mi_proceso(env))\n",
    "env.run()\n"
   ]
  },
  {
   "cell_type": "markdown",
   "metadata": {},
   "source": [
    "En este ejemplo, el proceso `mi_proceso` imprime el momento actual de la simulación, espera 5 unidades de tiempo y luego imprime el nuevo momento de la simulación. Usando `yield` con `env.timeout()`, el proceso se pausa, permitiendo que otros procesos (si los hubiera) avancen.\n",
    "\n",
    "#### Interactuando con Recursos\n",
    "\n",
    "SimPy también permite modelar la interacción con recursos limitados (como máquinas en una fábrica, cajeros en un banco, etc.) utilizando `yield`. Esto se hace generalmente con instrucciones como `yield resource.request()` para solicitar acceso a un recurso y `yield resource.release()` para liberarlo, aunque la liberación a menudo se maneja automáticamente usando el manejador de contexto `with`."
   ]
  },
  {
   "cell_type": "code",
   "execution_count": 84,
   "metadata": {},
   "outputs": [
    {
     "name": "stdout",
     "output_type": "stream",
     "text": [
      "Proceso iniciado: 0\n",
      "Recurso obtenido: 0\n",
      "Recurso liberado: 3\n"
     ]
    }
   ],
   "source": [
    "def proceso_con_recurso(env, recurso):\n",
    "    print('Proceso iniciado:', env.now)\n",
    "    with recurso.request() as req:  # Solicitar el recurso\n",
    "        yield req  # Esperar hasta que el recurso esté disponible\n",
    "        print('Recurso obtenido:', env.now)\n",
    "        yield env.timeout(3)  # Simular trabajo durante 3 unidades de tiempo\n",
    "    print('Recurso liberado:', env.now)  # El recurso se libera al salir del bloque 'with'\n",
    "\n",
    "env = simpy.Environment()\n",
    "recurso = simpy.Resource(env, capacity=1)\n",
    "env.process(proceso_con_recurso(env, recurso))\n",
    "env.run()\n"
   ]
  },
  {
   "cell_type": "markdown",
   "metadata": {},
   "source": [
    "Aquí, `proceso_con_recurso` intenta obtener un recurso antes de realizar un trabajo que dura 3 unidades de tiempo. El uso de `with recurso.request() as req:` gestiona automáticamente la solicitud y liberación del recurso.\n",
    "\n",
    "#### Eventos Personalizados y Condiciones Complejas\n",
    "\n",
    "Además de esperar tiempos y recursos, `yield` puede usarse para esperar por eventos personalizados o condiciones más complejas. Por ejemplo, puedes esperar a que varios procesos se completen usando `yield env.all_of([evento1, evento2, ...])` o esperar hasta que el primero de varios eventos ocurra con `yield env.any_of([evento1, evento2, ...])`.\n",
    "\n",
    "#### Conclusión\n",
    "\n",
    "El uso de `yield` en SimPy es fundamental para crear simulaciones de eventos discretos, permitiendo modelar comportamientos y procesos temporales complejos de manera intuitiva y eficiente. Al pausar y reanudar procesos, SimPy facilita la representación de sistemas dinámicos y sus interacciones a lo largo del tiempo, desde simples esperas hasta interacciones complejas entre múltiples entidades y recursos."
   ]
  }
 ],
 "metadata": {
  "kernelspec": {
   "display_name": ".venv",
   "language": "python",
   "name": "python3"
  },
  "language_info": {
   "codemirror_mode": {
    "name": "ipython",
    "version": 3
   },
   "file_extension": ".py",
   "mimetype": "text/x-python",
   "name": "python",
   "nbconvert_exporter": "python",
   "pygments_lexer": "ipython3",
   "version": "3.11.8"
  }
 },
 "nbformat": 4,
 "nbformat_minor": 2
}
